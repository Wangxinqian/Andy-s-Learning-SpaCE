{
 "cells": [
  {
   "cell_type": "code",
   "execution_count": 10,
   "id": "equipped-pitch",
   "metadata": {},
   "outputs": [],
   "source": [
    "import numpy as np\n",
    "import math"
   ]
  },
  {
   "cell_type": "code",
   "execution_count": 11,
   "id": "fresh-consumer",
   "metadata": {},
   "outputs": [],
   "source": [
    "s = np.random.uniform(0,1,10000)"
   ]
  },
  {
   "cell_type": "code",
   "execution_count": 12,
   "id": "continuing-alfred",
   "metadata": {},
   "outputs": [],
   "source": [
    "def function_Fx(x):\n",
    "    return (x*x + 2*x + 3)**(-1)"
   ]
  },
  {
   "cell_type": "code",
   "execution_count": 13,
   "id": "occasional-programmer",
   "metadata": {},
   "outputs": [],
   "source": [
    "result = function_Fx(s)"
   ]
  },
  {
   "cell_type": "code",
   "execution_count": 14,
   "id": "fossil-bankruptcy",
   "metadata": {},
   "outputs": [
    {
     "name": "stdout",
     "output_type": "stream",
     "text": [
      "confidence interval of the function_Fx [0.23998100095187747,0.24186070055522024]\n"
     ]
    }
   ],
   "source": [
    "result_mean = np.mean(result)\n",
    "result_std = np.std(result)\n",
    "result_up = result_mean + 1.96*(result_std/100)\n",
    "result_down = result_mean - 1.96*(result_std/100)\n",
    "print(\"confidence interval of the function_Fx\",\"[{lower},{upper}]\".format(lower=result_down,upper=result_up))"
   ]
  },
  {
   "cell_type": "code",
   "execution_count": 15,
   "id": "cutting-insulin",
   "metadata": {},
   "outputs": [],
   "source": [
    "L = []\n",
    "for r in result:\n",
    "    L.append(r)"
   ]
  },
  {
   "cell_type": "code",
   "execution_count": 16,
   "id": "alternate-portrait",
   "metadata": {},
   "outputs": [
    {
     "data": {
      "text/plain": [
       "0.24092085075354872"
      ]
     },
     "execution_count": 16,
     "metadata": {},
     "output_type": "execute_result"
    }
   ],
   "source": [
    "sum(L)/len(L)"
   ]
  },
  {
   "cell_type": "markdown",
   "id": "electric-irrigation",
   "metadata": {},
   "source": [
    "$$\n",
    "\\int \\frac{1}{a x^{2}+b x+c} \\mathrm{~d} x=\\frac{2}{\\sqrt{4 a c-b^{2}}} \\tan ^{-1}\\left(\\frac{2 a x+b}{\\sqrt{4 a c-b^{2}}}\\right)\n",
    "$$"
   ]
  },
  {
   "cell_type": "code",
   "execution_count": 17,
   "id": "suited-penetration",
   "metadata": {},
   "outputs": [
    {
     "data": {
      "text/plain": [
       "0.24030098317248838"
      ]
     },
     "execution_count": 17,
     "metadata": {},
     "output_type": "execute_result"
    }
   ],
   "source": [
    "(np.arctan(math.sqrt(2)) - np.arctan(0.5*math.sqrt(2)))*0.5*math.sqrt(2)"
   ]
  },
  {
   "cell_type": "code",
   "execution_count": 18,
   "id": "streaming-seattle",
   "metadata": {},
   "outputs": [
    {
     "data": {
      "text/plain": [
       "0.0006198675810603349"
      ]
     },
     "execution_count": 18,
     "metadata": {},
     "output_type": "execute_result"
    }
   ],
   "source": [
    "0.24092085075354872 - 0.24030098317248838"
   ]
  },
  {
   "cell_type": "code",
   "execution_count": null,
   "id": "complex-insurance",
   "metadata": {},
   "outputs": [],
   "source": []
  }
 ],
 "metadata": {
  "kernelspec": {
   "display_name": "Python 3",
   "language": "python",
   "name": "python3"
  },
  "language_info": {
   "codemirror_mode": {
    "name": "ipython",
    "version": 3
   },
   "file_extension": ".py",
   "mimetype": "text/x-python",
   "name": "python",
   "nbconvert_exporter": "python",
   "pygments_lexer": "ipython3",
   "version": "3.7.9"
  }
 },
 "nbformat": 4,
 "nbformat_minor": 5
}
