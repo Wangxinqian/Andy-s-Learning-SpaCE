{
 "cells": [
  {
   "cell_type": "code",
   "execution_count": 117,
   "id": "potential-extent",
   "metadata": {},
   "outputs": [],
   "source": [
    "import numpy as np\n",
    "import statsmodels.api as sm"
   ]
  },
  {
   "cell_type": "markdown",
   "id": "blank-ideal",
   "metadata": {},
   "source": [
    "# Model_1"
   ]
  },
  {
   "cell_type": "markdown",
   "id": "beginning-office",
   "metadata": {},
   "source": [
    "$$\n",
    "y=\\beta_{1} x_{1}+\\varepsilon\n",
    "$$"
   ]
  },
  {
   "cell_type": "code",
   "execution_count": 118,
   "id": "practical-volume",
   "metadata": {},
   "outputs": [],
   "source": [
    "X = np.array([0,1,2,3,4])\n",
    "Y = np.array([1,2,3,2,1])"
   ]
  },
  {
   "cell_type": "code",
   "execution_count": 119,
   "id": "computational-pathology",
   "metadata": {},
   "outputs": [
    {
     "data": {
      "text/plain": [
       "array([0.6])"
      ]
     },
     "execution_count": 119,
     "metadata": {},
     "output_type": "execute_result"
    }
   ],
   "source": [
    "model = sm.OLS(Y,X)\n",
    "results = model.fit()\n",
    "results.params\n",
    "#print(results.summary())\n",
    "#results.tvalues"
   ]
  },
  {
   "cell_type": "code",
   "execution_count": 120,
   "id": "fleet-battlefield",
   "metadata": {},
   "outputs": [
    {
     "name": "stdout",
     "output_type": "stream",
     "text": [
      "                                 OLS Regression Results                                \n",
      "=======================================================================================\n",
      "Dep. Variable:                      y   R-squared (uncentered):                   0.568\n",
      "Model:                            OLS   Adj. R-squared (uncentered):              0.461\n",
      "Method:                 Least Squares   F-statistic:                              5.268\n",
      "Date:                Sun, 14 Mar 2021   Prob (F-statistic):                      0.0834\n",
      "Time:                        14:00:18   Log-Likelihood:                         -8.3314\n",
      "No. Observations:                   5   AIC:                                      18.66\n",
      "Df Residuals:                       4   BIC:                                      18.27\n",
      "Df Model:                           1                                                  \n",
      "Covariance Type:            nonrobust                                                  \n",
      "==============================================================================\n",
      "                 coef    std err          t      P>|t|      [0.025      0.975]\n",
      "------------------------------------------------------------------------------\n",
      "x1             0.6000      0.261      2.295      0.083      -0.126       1.326\n",
      "==============================================================================\n",
      "Omnibus:                          nan   Durbin-Watson:                   0.663\n",
      "Prob(Omnibus):                    nan   Jarque-Bera (JB):                0.641\n",
      "Skew:                          -0.795   Prob(JB):                        0.726\n",
      "Kurtosis:                       2.262   Cond. No.                         1.00\n",
      "==============================================================================\n",
      "\n",
      "Notes:\n",
      "[1] R² is computed without centering (uncentered) since the model does not contain a constant.\n",
      "[2] Standard Errors assume that the covariance matrix of the errors is correctly specified.\n"
     ]
    },
    {
     "name": "stderr",
     "output_type": "stream",
     "text": [
      "c:\\users\\andy\\appdata\\local\\programs\\python\\python37\\lib\\site-packages\\statsmodels\\stats\\stattools.py:75: ValueWarning: omni_normtest is not valid with less than 8 observations; 5 samples were given.\n",
      "  \"samples were given.\" % int(n), ValueWarning)\n"
     ]
    }
   ],
   "source": [
    "print(results.summary())"
   ]
  },
  {
   "cell_type": "code",
   "execution_count": 121,
   "id": "saving-municipality",
   "metadata": {
    "scrolled": true
   },
   "outputs": [
    {
     "name": "stdout",
     "output_type": "stream",
     "text": [
      "squared error loss = 1.64\n",
      "absolute error loss = 1.1600000000000001\n",
      "L1.5 loss = 1.3634801626671098\n"
     ]
    }
   ],
   "source": [
    "#squared error loss\n",
    "print(\"squared error loss =\",sum((results.predict(X)-Y)**2)/len(X))\n",
    "#absolute error loss\n",
    "print(\"absolute error loss =\",sum(abs(results.predict(X)-Y))/len(X))\n",
    "#L1.5 loss\n",
    "print(\"L1.5 loss =\",sum(abs(results.predict(X)-Y)**(1.5))/len(X))"
   ]
  },
  {
   "cell_type": "markdown",
   "id": "powerful-brown",
   "metadata": {},
   "source": [
    "# Model_2"
   ]
  },
  {
   "cell_type": "markdown",
   "id": "another-cemetery",
   "metadata": {},
   "source": [
    "$$\n",
    "y=\\beta_{0}+\\beta_{1} x_{1}+\\varepsilon\n",
    "$$"
   ]
  },
  {
   "cell_type": "code",
   "execution_count": 122,
   "id": "central-behavior",
   "metadata": {},
   "outputs": [],
   "source": [
    "X = sm.add_constant(np.array([0,1,2,3,4]))\n",
    "Y = np.array([1,2,3,2,1])"
   ]
  },
  {
   "cell_type": "code",
   "execution_count": 123,
   "id": "impaired-boards",
   "metadata": {},
   "outputs": [
    {
     "data": {
      "text/plain": [
       "array([1.80000000e+00, 1.38777878e-16])"
      ]
     },
     "execution_count": 123,
     "metadata": {},
     "output_type": "execute_result"
    }
   ],
   "source": [
    "model = sm.OLS(Y,X)\n",
    "results = model.fit()\n",
    "results.params\n",
    "#print(results.summary())\n",
    "#results.tvalues"
   ]
  },
  {
   "cell_type": "code",
   "execution_count": 124,
   "id": "roman-insert",
   "metadata": {
    "scrolled": true
   },
   "outputs": [
    {
     "name": "stdout",
     "output_type": "stream",
     "text": [
      "                            OLS Regression Results                            \n",
      "==============================================================================\n",
      "Dep. Variable:                      y   R-squared:                       0.000\n",
      "Model:                            OLS   Adj. R-squared:                 -0.333\n",
      "Method:                 Least Squares   F-statistic:                     0.000\n",
      "Date:                Sun, 14 Mar 2021   Prob (F-statistic):               1.00\n",
      "Time:                        14:00:19   Log-Likelihood:                -5.6451\n",
      "No. Observations:                   5   AIC:                             15.29\n",
      "Df Residuals:                       3   BIC:                             14.51\n",
      "Df Model:                           1                                         \n",
      "Covariance Type:            nonrobust                                         \n",
      "==============================================================================\n",
      "                 coef    std err          t      P>|t|      [0.025      0.975]\n",
      "------------------------------------------------------------------------------\n",
      "const          1.8000      0.748      2.405      0.095      -0.582       4.182\n",
      "x1          1.388e-16      0.306   4.54e-16      1.000      -0.972       0.972\n",
      "==============================================================================\n",
      "Omnibus:                          nan   Durbin-Watson:                   1.429\n",
      "Prob(Omnibus):                    nan   Jarque-Bera (JB):                0.375\n",
      "Skew:                           0.344   Prob(JB):                        0.829\n",
      "Kurtosis:                       1.847   Cond. No.                         4.74\n",
      "==============================================================================\n",
      "\n",
      "Notes:\n",
      "[1] Standard Errors assume that the covariance matrix of the errors is correctly specified.\n"
     ]
    },
    {
     "name": "stderr",
     "output_type": "stream",
     "text": [
      "c:\\users\\andy\\appdata\\local\\programs\\python\\python37\\lib\\site-packages\\statsmodels\\stats\\stattools.py:75: ValueWarning: omni_normtest is not valid with less than 8 observations; 5 samples were given.\n",
      "  \"samples were given.\" % int(n), ValueWarning)\n"
     ]
    }
   ],
   "source": [
    "print(results.summary())"
   ]
  },
  {
   "cell_type": "code",
   "execution_count": 125,
   "id": "fleet-adobe",
   "metadata": {},
   "outputs": [
    {
     "name": "stdout",
     "output_type": "stream",
     "text": [
      "squared error loss = 0.56\n",
      "absolute error loss = 0.64\n",
      "L1.5 loss = 0.5849006163624495\n"
     ]
    }
   ],
   "source": [
    "#squared error loss\n",
    "print(\"squared error loss =\",sum((results.predict(X)-Y)**2)/len(X))\n",
    "#absolute error loss\n",
    "print(\"absolute error loss =\",sum(abs(results.predict(X)-Y))/len(X))\n",
    "#L1.5 loss\n",
    "print(\"L1.5 loss =\",sum(abs(results.predict(X)-Y)**(1.5))/len(X))"
   ]
  },
  {
   "cell_type": "markdown",
   "id": "hundred-there",
   "metadata": {},
   "source": [
    "# (a)"
   ]
  },
  {
   "cell_type": "markdown",
   "id": "split-cologne",
   "metadata": {},
   "source": [
    "$$\n",
    "\\begin{array}{|c|c|c|}\n",
    "\\hline \\text { Model } & \\beta_{0} & \\beta_{1} \\\\\n",
    "\\hline \\text { Model }_{1} & 0 & 0.6\\\\\n",
    "\\hline \\text { Model }_{2} & 1.8& 0\\\\\n",
    "\\hline\n",
    "\\end{array}\n",
    "$$"
   ]
  },
  {
   "cell_type": "markdown",
   "id": "stable-doubt",
   "metadata": {},
   "source": [
    "# (b)"
   ]
  },
  {
   "cell_type": "markdown",
   "id": "controlling-triangle",
   "metadata": {},
   "source": [
    "$$\n",
    "\\begin{array}{|c|c|c|c|}\n",
    "\\hline \\text { Model } & \\text { squared error loss } & \\text { absolute error loss } & L_{1.5} \\text { loss } \\\\\n",
    "\\hline \\text { Model }_{1} & 1.64 & 1.16 & 1.36 \\\\\n",
    "\\hline \\text { Model }_{2} & 0.56 & 0.64 & 0.58 \\\\\n",
    "\\hline\n",
    "\\end{array}\n",
    "$$"
   ]
  },
  {
   "cell_type": "markdown",
   "id": "western-junction",
   "metadata": {},
   "source": [
    "# (c)"
   ]
  },
  {
   "cell_type": "markdown",
   "id": "fabulous-petroleum",
   "metadata": {},
   "source": [
    "### Only doing simple linear regression seems not fit the label Y so well. We may need to involve some non-linear model."
   ]
  },
  {
   "cell_type": "code",
   "execution_count": null,
   "id": "broken-canberra",
   "metadata": {},
   "outputs": [],
   "source": []
  }
 ],
 "metadata": {
  "kernelspec": {
   "display_name": "Python 3",
   "language": "python",
   "name": "python3"
  },
  "language_info": {
   "codemirror_mode": {
    "name": "ipython",
    "version": 3
   },
   "file_extension": ".py",
   "mimetype": "text/x-python",
   "name": "python",
   "nbconvert_exporter": "python",
   "pygments_lexer": "ipython3",
   "version": "3.7.9"
  }
 },
 "nbformat": 4,
 "nbformat_minor": 5
}
