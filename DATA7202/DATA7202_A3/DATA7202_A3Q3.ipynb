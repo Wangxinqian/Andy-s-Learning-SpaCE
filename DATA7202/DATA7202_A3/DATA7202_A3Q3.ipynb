{
 "cells": [
  {
   "cell_type": "markdown",
   "id": "threatened-storm",
   "metadata": {},
   "source": [
    "$\n",
    "p_{red} = \\frac{2}{5} \\\\\n",
    "p_{blue} = \\frac{3}{5}\\\\\n",
    "Misclassification\\;impurity\\;= 1 - \\underset{z\\in (red,blue)}{max}p_{z} = \\frac{2}{5}\\\\\n",
    "Gini\\;impurity = \\sum_{i=1}^{J}\\left(p_{i}-p_{i}^{2}\\right) = \\frac{12}{25}\\\\\n",
    "Entropy\\;impurity = -\\sum_{i=0}^{J} p_{i} \\log _{2}\\left(p_{i}\\right)= 0.6730116670092565\n",
    "$"
   ]
  },
  {
   "cell_type": "markdown",
   "id": "maritime-quarterly",
   "metadata": {},
   "source": [
    "### After switching the variable..."
   ]
  },
  {
   "cell_type": "markdown",
   "id": "cognitive-shame",
   "metadata": {},
   "source": [
    "$\n",
    "p_{red} = \\frac{3}{5} \\\\\n",
    "p_{blue} = \\frac{2}{5}\\\\\n",
    "Misclassification\\;impurity\\;= 1 - \\underset{z\\in (red,blue)}{max}p_{z} = \\frac{2}{5}\\\\\n",
    "Gini\\;impurity = \\sum_{i=1}^{J}\\left(p_{i}-p_{i}^{2}\\right) = \\frac{12}{25}\\\\\n",
    "Entropy\\;impurity = -\\sum_{i=0}^{J} p_{i} \\log _{2}\\left(p_{i}\\right)= 0.6730116670092565\n",
    "$"
   ]
  },
  {
   "cell_type": "code",
   "execution_count": null,
   "id": "interpreted-amplifier",
   "metadata": {},
   "outputs": [],
   "source": []
  },
  {
   "cell_type": "code",
   "execution_count": null,
   "id": "assumed-scale",
   "metadata": {},
   "outputs": [],
   "source": []
  }
 ],
 "metadata": {
  "kernelspec": {
   "display_name": "Python 3",
   "language": "python",
   "name": "python3"
  },
  "language_info": {
   "codemirror_mode": {
    "name": "ipython",
    "version": 3
   },
   "file_extension": ".py",
   "mimetype": "text/x-python",
   "name": "python",
   "nbconvert_exporter": "python",
   "pygments_lexer": "ipython3",
   "version": "3.7.9"
  }
 },
 "nbformat": 4,
 "nbformat_minor": 5
}
