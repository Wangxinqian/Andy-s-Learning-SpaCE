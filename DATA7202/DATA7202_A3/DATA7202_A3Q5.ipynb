{
 "cells": [
  {
   "cell_type": "code",
   "execution_count": 1,
   "id": "serious-constraint",
   "metadata": {},
   "outputs": [],
   "source": [
    "import numpy as np\n",
    "from sklearn.datasets import make_friedman1\n",
    "from sklearn.ensemble import RandomForestRegressor\n",
    "from sklearn.model_selection import train_test_split\n",
    "from sklearn.metrics import r2_score"
   ]
  },
  {
   "cell_type": "code",
   "execution_count": 2,
   "id": "coral-hospital",
   "metadata": {},
   "outputs": [],
   "source": [
    "# create regression problem\n",
    "n_points = 1000 # points\n",
    "x, y = make_friedman1 ( n_samples =n_points , n_features =15 , noise =1.0 , random_state =100)"
   ]
  },
  {
   "cell_type": "code",
   "execution_count": 3,
   "id": "mental-picture",
   "metadata": {},
   "outputs": [],
   "source": [
    "# split to train /test set\n",
    "x_train , x_test , y_train , y_test = train_test_split (x, y, test_size =0.33 , random_state =100)"
   ]
  },
  {
   "cell_type": "markdown",
   "id": "seeing-organ",
   "metadata": {},
   "source": [
    "$$\n",
    "R^{2}=1-\\frac{\\sum\\left(Y_{-} \\text {actual }-Y_{-} \\text {predict }\\right)^{2}}{\\sum\\left(Y_{-} \\text {actual }-Y_{-} \\text {mean }\\right)^{2}}\n",
    "$$"
   ]
  },
  {
   "cell_type": "code",
   "execution_count": 4,
   "id": "vital-grain",
   "metadata": {},
   "outputs": [],
   "source": [
    "N_Features = len(x_train[0])\n",
    "R_Square_rate = []\n",
    "for i in range(1,N_Features+1):\n",
    "    rf = RandomForestRegressor (n_estimators =1000 , max_features =i, random_state =100)\n",
    "    rf.fit(x_train ,y_train)\n",
    "    y_predict = rf.predict(x_test)\n",
    "    R_Square_rate.append(r2_score(y_test , y_predict))"
   ]
  },
  {
   "cell_type": "code",
   "execution_count": 5,
   "id": "straight-decrease",
   "metadata": {},
   "outputs": [
    {
     "data": {
      "text/plain": [
       "Text(0, 0.5, 'R square rate')"
      ]
     },
     "execution_count": 5,
     "metadata": {},
     "output_type": "execute_result"
    },
    {
     "data": {
      "image/png": "[encoded data removed]",
      "text/plain": [
       "<Figure size 432x288 with 1 Axes>"
      ]
     },
     "metadata": {
      "needs_background": "light"
     },
     "output_type": "display_data"
    }
   ],
   "source": [
    "import matplotlib.pyplot as plt\n",
    "plt.plot([i for i in range(1,N_Features+1)],R_Square_rate)\n",
    "plt.xlabel(\"number of attributes\")\n",
    "plt.ylabel(\"R square rate\")"
   ]
  },
  {
   "cell_type": "code",
   "execution_count": 6,
   "id": "peripheral-silence",
   "metadata": {
    "scrolled": true
   },
   "outputs": [],
   "source": [
    "max_number = max(R_Square_rate)\n",
    "Max_index = R_Square_rate.index(max_number)"
   ]
  },
  {
   "cell_type": "code",
   "execution_count": 7,
   "id": "surgical-compromise",
   "metadata": {},
   "outputs": [
    {
     "data": {
      "text/plain": [
       "8"
      ]
     },
     "execution_count": 7,
     "metadata": {},
     "output_type": "execute_result"
    }
   ],
   "source": [
    "Max_index"
   ]
  },
  {
   "cell_type": "markdown",
   "id": "center-knight",
   "metadata": {},
   "source": [
    "##### Result: the index with 8 can achieve the highest R square rate, which means in this case, m=9"
   ]
  },
  {
   "cell_type": "code",
   "execution_count": null,
   "id": "chicken-hygiene",
   "metadata": {},
   "outputs": [],
   "source": []
  }
 ],
 "metadata": {
  "kernelspec": {
   "display_name": "Python 3",
   "language": "python",
   "name": "python3"
  },
  "language_info": {
   "codemirror_mode": {
    "name": "ipython",
    "version": 3
   },
   "file_extension": ".py",
   "mimetype": "text/x-python",
   "name": "python",
   "nbconvert_exporter": "python",
   "pygments_lexer": "ipython3",
   "version": "3.7.9"
  }
 },
 "nbformat": 4,
 "nbformat_minor": 5
}
