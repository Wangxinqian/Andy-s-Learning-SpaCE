{
 "cells": [
  {
   "cell_type": "markdown",
   "id": "allied-newton",
   "metadata": {},
   "source": [
    "Traning Set: $\\tau$, with the size #{$\\tau$}=$n$.\n",
    "\n",
    "Bootstrapping Sampling Set: $\\tau^{*}$, with the size #{$\\tau^{*}$}=$n$.\n",
    "\n",
    "For each time sampling from $\\tau$, the probability of sampling a special digit is $\\frac{1}{n}$.\n",
    "\n",
    "For each time sampling to $\\tau^{*}$, the probability of not sampling such digit is $1-\\frac{1}{n}$.\n",
    "\n",
    "So, the probability of not sampling such digit for n times sampling is $(1-\\frac{1}{n})^n$\n",
    "\n",
    "If, n is large enough, $\\lim _{n \\rightarrow \\infty}\\left(1-\\frac{1}{n}\\right)^{n} = \\frac{1}{e} \\approx 0.37 $\n",
    "\n",
    "The proof is below:\n",
    "\n",
    "$$\\lim _{n \\rightarrow \\infty} \\left(1-\\frac{1}{n}\\right)^{n}=\\lim _{n \\rightarrow \\infty} e^{\\ln \\left(1-\\frac{1}{n}\\right)^{n}}$$\n",
    "\n",
    "$$\\ln \\left(1-\\frac{1}{n}\\right)^{n}=\\ln \\left(\\frac{n-1}{n}\\right)^{n}=n \\ln \\left(\\frac{n-1}{n}\\right)$$\n",
    "\n",
    "$$n \\ln \\left(\\frac{n-1}{n}\\right) = \\frac{\\ln \\left(\\frac{n-1}{n}\\right)}{\\frac{1}{n}}$$\n",
    "\n",
    "We can see when $n$ is large enough, the numerator and denominator are both close to 0. As the result, we can calculate their derivatives respectively.\n",
    "\n",
    "$$\\frac{d}{d n}\\left(\\ln \\left(\\frac{n-1}{n}\\right)\\right) = \\frac{1}{n(n-1)}$$\n",
    "\n",
    "$$\\frac{d\\;n^{-1}}{d n} = -n^{-2}$$\n",
    "\n",
    "$$\\frac{\\frac{1}{n(n-1)}}{-\\frac{1}{n^{2}}} = -\\frac{n}{n-1}$$\n",
    "\n",
    "Then, we have the limit below:\n",
    "\n",
    "$$\\lim _{n \\rightarrow \\infty}\\left(-\\frac{n}{n-1}\\right)=-1$$\n",
    "\n",
    "$$\\lim _{n \\rightarrow \\infty}\\left(1-\\frac{1}{n}\\right)^{n}=\\lim _{n \\rightarrow \\infty} e^{\\ln \\left(1-\\frac{1}{n}\\right)^{n}}=e^{-1}=\\frac{1}{e} \\approx 0.37$$"
   ]
  },
  {
   "cell_type": "code",
   "execution_count": null,
   "id": "cosmetic-boundary",
   "metadata": {},
   "outputs": [],
   "source": []
  }
 ],
 "metadata": {
  "kernelspec": {
   "display_name": "Python 3",
   "language": "python",
   "name": "python3"
  },
  "language_info": {
   "codemirror_mode": {
    "name": "ipython",
    "version": 3
   },
   "file_extension": ".py",
   "mimetype": "text/x-python",
   "name": "python",
   "nbconvert_exporter": "python",
   "pygments_lexer": "ipython3",
   "version": "3.7.9"
  }
 },
 "nbformat": 4,
 "nbformat_minor": 5
}
