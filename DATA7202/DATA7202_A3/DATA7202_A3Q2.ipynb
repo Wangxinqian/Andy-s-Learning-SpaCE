{
 "cells": [
  {
   "cell_type": "markdown",
   "id": "tracked-phrase",
   "metadata": {},
   "source": [
    "$R_{w}=\\left\\{\\left(\\mathbf{x}_{1}, y_{1}\\right), \\ldots,\\left(\\mathbf{x}_{k}, y_{k}\\right)\\right\\}$\n",
    "Suppose we would like to find a constant regional prediction function that minimize the squard-loss function, such as below:\n",
    "$h_{w}=\\underset{y}{argmin}(\\sum_{i=1}^{k}(y-y_{i})^2)$\n",
    "For minimize the function $\\sum_{i=1}^{k}(y-y_{i})^2$, because of it is an convex function, we can calculate its derivative."
   ]
  },
  {
   "cell_type": "code",
   "execution_count": null,
   "id": "competitive-boston",
   "metadata": {},
   "outputs": [],
   "source": []
  },
  {
   "cell_type": "markdown",
   "id": "refined-houston",
   "metadata": {},
   "source": [
    "$$\\frac{d\\sum_{i=1\\;}^{k}(y-y_{i})^2}{dy} = 0 \\\\\n",
    "\\sum_{i=1}^{k}(2y-2y_{i})=0 \\\\\n",
    "\\sum_{i=1}^{k} y_{i} = k\\cdot y \\\\\n",
    "\\frac{1}{k} \\cdot\\sum_{i=1}^{k} y_{i} = y \\\\\n",
    "h_{w} = k^{-1} \\cdot\\sum_{i=1}^{k} y_{i}\n",
    "$$"
   ]
  },
  {
   "cell_type": "code",
   "execution_count": null,
   "id": "eight-naples",
   "metadata": {},
   "outputs": [],
   "source": []
  }
 ],
 "metadata": {
  "kernelspec": {
   "display_name": "Python 3",
   "language": "python",
   "name": "python3"
  },
  "language_info": {
   "codemirror_mode": {
    "name": "ipython",
    "version": 3
   },
   "file_extension": ".py",
   "mimetype": "text/x-python",
   "name": "python",
   "nbconvert_exporter": "python",
   "pygments_lexer": "ipython3",
   "version": "3.7.9"
  }
 },
 "nbformat": 4,
 "nbformat_minor": 5
}
