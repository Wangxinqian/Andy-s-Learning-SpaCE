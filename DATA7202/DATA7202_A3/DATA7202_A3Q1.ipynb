{
 "cells": [
  {
   "cell_type": "markdown",
   "id": "alternative-frontier",
   "metadata": {},
   "source": [
    "One sample solution should be: assume a tree classify $h:\\ (\\textbf{x} \\mapsto\\{y_{i}\\}, i=1,...n)$. Suppose the capacity of $\\textbf{x}$ is also $n$. Then, the extreme case would be for each $x_{i} \\; in \\; \\textbf{x}$, the classifier $h$ would classify the $x_{i}$ with the true label $y_{i}$.\n",
    "\n",
    "The root node would be [if $x_{i}==\\textbf{x}$]. If True, go to the left node, which is the classify answer $y_{i}.$ If False, go to the right node, which is the next criterion [if $x_{i+1}==\\textbf{x}$], and $x_{i+2}$ so on.\n",
    "\n",
    "Finally, we can get a zero training loss classifier."
   ]
  }
 ],
 "metadata": {
  "kernelspec": {
   "display_name": "Python 3",
   "language": "python",
   "name": "python3"
  },
  "language_info": {
   "codemirror_mode": {
    "name": "ipython",
    "version": 3
   },
   "file_extension": ".py",
   "mimetype": "text/x-python",
   "name": "python",
   "nbconvert_exporter": "python",
   "pygments_lexer": "ipython3",
   "version": "3.7.9"
  }
 },
 "nbformat": 4,
 "nbformat_minor": 5
}
