{
 "cells": [
  {
   "cell_type": "markdown",
   "id": "common-kitchen",
   "metadata": {},
   "source": [
    "$\n",
    "\\mathbf{p}(y \\mid \\theta)=\\;\\frac{1}{\\theta}\n",
    "$"
   ]
  },
  {
   "cell_type": "markdown",
   "id": "southeast-rapid",
   "metadata": {},
   "source": [
    "$\n",
    "\\mathbf{p}\\left(\\theta \\mid \\alpha, x_{m}\\right)=\\;\\left\\{\\begin{array}{ll}\n",
    "\\frac{\\alpha x_{m}^{\\alpha}}{\\theta^{\\alpha+1}} & \\theta \\geqslant x_{m} \\\\\n",
    "0 & \\theta<x_{m}\n",
    "\\end{array}\\right.\n",
    "$"
   ]
  },
  {
   "cell_type": "markdown",
   "id": "looking-deviation",
   "metadata": {},
   "source": [
    "$\n",
    "\\begin{eqnarray} \n",
    "P(\\theta \\mid Y) \n",
    "&=&\\; \\frac {P(Y \\mid \\theta) \\cdot P(\\theta)} {P(Y)}  \\\\\n",
    "&\\propto&\\; {P(Y \\mid \\theta) \\cdot P(\\theta)} \\\\\n",
    "&=&\\; \\left ( \\prod_{i=1}^{n} \\mathbf{p}(y_{i} \\mid \\theta) \\right )  \\cdot \\mathbf{p}\\left(\\theta \\mid \\alpha, x_{m}\\right) \\\\\n",
    "&=&\\; \\frac{1}{\\theta^{n}} \\cdot \\mathbf{p}\\left(\\theta \\mid \\alpha, x_{m}\\right) \\\\\n",
    "&=&\\; \\begin{cases}\\frac{\\alpha x^{\\alpha }_{m}}{\\theta^{(n+\\alpha)+1}} &  \\theta \\geqslant x_{m} \\\\ 0 &  \\theta < x_{m}\\end{cases} \\\\\n",
    "&=&\\; \\frac{\\alpha x^{-n}_{m}}{n+\\alpha } \\cdot \n",
    "   \\begin{cases}\\frac{(n + \\alpha) x^{(\\alpha + n) }_{m}}{\\theta^{(n+\\alpha)+1}} &  \\theta \\geqslant x_{m} \\\\ 0 &  \\theta < x_{m}\\end{cases} \\\\\n",
    "&\\propto&\\; \\mathbf{Pareto}\\left(\\theta \\mid (n+\\alpha), x_{m}\\right)\n",
    "\\end{eqnarray} \\\\\n",
    "$"
   ]
  },
  {
   "cell_type": "code",
   "execution_count": null,
   "id": "direct-presentation",
   "metadata": {},
   "outputs": [],
   "source": []
  }
 ],
 "metadata": {
  "kernelspec": {
   "display_name": "Python 3",
   "language": "python",
   "name": "python3"
  },
  "language_info": {
   "codemirror_mode": {
    "name": "ipython",
    "version": 3
   },
   "file_extension": ".py",
   "mimetype": "text/x-python",
   "name": "python",
   "nbconvert_exporter": "python",
   "pygments_lexer": "ipython3",
   "version": "3.7.9"
  }
 },
 "nbformat": 4,
 "nbformat_minor": 5
}
