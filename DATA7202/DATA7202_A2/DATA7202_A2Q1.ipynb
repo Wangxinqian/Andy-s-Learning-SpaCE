{
 "cells": [
  {
   "cell_type": "code",
   "execution_count": 1,
   "id": "ancient-trail",
   "metadata": {},
   "outputs": [],
   "source": [
    "# Package implementation\n",
    "import pandas as pd\n",
    "from sklearn.decomposition import PCA\n",
    "from sklearn.preprocessing import LabelEncoder\n",
    "from sklearn.model_selection import KFold\n",
    "from sklearn.metrics import mean_squared_error\n",
    "from sklearn.linear_model import LinearRegression\n",
    "import numpy as np\n",
    "import matplotlib.pyplot as plt\n",
    "from sklearn import linear_model"
   ]
  },
  {
   "cell_type": "code",
   "execution_count": 2,
   "id": "continuous-builder",
   "metadata": {},
   "outputs": [],
   "source": [
    "df = pd.read_csv(\"Hitters.csv\")\n",
    "#  Change Data Type\n",
    "labelencoder = LabelEncoder()\n",
    "df['League'] = labelencoder.fit_transform(df['League'])\n",
    "df['Division'] = labelencoder.fit_transform(df['Division'])\n",
    "df['NewLeague'] = labelencoder.fit_transform(df['NewLeague'])\n",
    "\n",
    "\n",
    "#Generate X,Y\n",
    "X_cols = [i for i in df.columns if i not in ['Salary']]\n",
    "Y_cols = [i for i in df.columns if i in ['Salary']]\n",
    "X = df[X_cols]\n",
    "Y = df[Y_cols]"
   ]
  },
  {
   "cell_type": "markdown",
   "id": "naked-repository",
   "metadata": {},
   "source": [
    "## Q1_a"
   ]
  },
  {
   "cell_type": "code",
   "execution_count": 3,
   "id": "dedicated-bennett",
   "metadata": {},
   "outputs": [],
   "source": [
    "def PCR(X,Y,N_Cols,model):\n",
    "    #PCA\n",
    "    X = PCA(n_components=N_Cols).fit_transform(X)\n",
    "    \n",
    "    X = pd.DataFrame(X)\n",
    "    \n",
    "    kf = KFold(n_splits=10)\n",
    "    kf.get_n_splits(X)\n",
    "    MSE = []\n",
    "    \n",
    "    for train_index, test_index in kf.split(X):\n",
    "        #print(\"TRAIN:\", train_index, \"TEST:\", test_index)\n",
    "        X_train, X_test = X.iloc[train_index,:], X.iloc[test_index,:]\n",
    "        y_train, y_test = Y.iloc[train_index], Y.iloc[test_index]\n",
    "        # fit the model\n",
    "        model.fit(X_train,y_train)\n",
    "        # predict\n",
    "        y_pred = model.predict(X_test)\n",
    "        loss = mean_squared_error(y_test,y_pred)\n",
    "        MSE.append(loss)\n",
    "    return np.mean(MSE)"
   ]
  },
  {
   "cell_type": "code",
   "execution_count": 4,
   "id": "advanced-chrome",
   "metadata": {
    "scrolled": false
   },
   "outputs": [],
   "source": [
    "model = LinearRegression()\n",
    "PCR(X,Y,19,model)\n",
    "Error_List = []\n",
    "Component_List = [i for i in range(1,20)]\n",
    "for i in range(1,20):\n",
    "    Error_List.append(PCR(X,Y,i,model))"
   ]
  },
  {
   "cell_type": "code",
   "execution_count": 5,
   "id": "adult-forestry",
   "metadata": {},
   "outputs": [
    {
     "data": {
      "text/plain": [
       "<matplotlib.collections.PathCollection at 0x2c64ce95448>"
      ]
     },
     "execution_count": 5,
     "metadata": {},
     "output_type": "execute_result"
    },
    {
     "data": {
      "image/png": "[encoded data removed]",
      "text/plain": [
       "<Figure size 432x288 with 1 Axes>"
      ]
     },
     "metadata": {
      "needs_background": "light"
     },
     "output_type": "display_data"
    }
   ],
   "source": [
    "plt.xlabel(\"the total number of components\")\n",
    "plt.ylabel(\"the value of MSE\")\n",
    "plt.scatter([i for i in range(1,20)], Error_List)"
   ]
  },
  {
   "cell_type": "markdown",
   "id": "continuing-wisdom",
   "metadata": {},
   "source": [
    "## Q1_b"
   ]
  },
  {
   "cell_type": "code",
   "execution_count": 8,
   "id": "mighty-lodge",
   "metadata": {
    "scrolled": true
   },
   "outputs": [
    {
     "name": "stdout",
     "output_type": "stream",
     "text": [
      "115462.2995924692\n"
     ]
    },
    {
     "data": {
      "text/plain": [
       "<matplotlib.collections.PathCollection at 0x2c64d085e88>"
      ]
     },
     "execution_count": 8,
     "metadata": {},
     "output_type": "execute_result"
    },
    {
     "data": {
      "image/png": "[encoded data removed]",
      "text/plain": [
       "<Figure size 432x288 with 1 Axes>"
      ]
     },
     "metadata": {
      "needs_background": "light"
     },
     "output_type": "display_data"
    }
   ],
   "source": [
    "lasso = linear_model.Lasso(fit_intercept=True, alpha=5)\n",
    "print(PCR(X,Y,18,lasso))\n",
    "Error_List = []\n",
    "Component_List = [i for i in range(1,20)]\n",
    "for i in range(1,30):\n",
    "    Error_List.append(PCR(X,Y,18,linear_model.Lasso(fit_intercept=True, alpha=i)))\n",
    "plt.xlabel(\"the value of alpha\")\n",
    "plt.ylabel(\"the value of MSE\")\n",
    "plt.scatter([i for i in range(1,30)], Error_List,s = 1)"
   ]
  },
  {
   "cell_type": "code",
   "execution_count": null,
   "id": "fiscal-resident",
   "metadata": {},
   "outputs": [],
   "source": []
  }
 ],
 "metadata": {
  "kernelspec": {
   "display_name": "Python 3",
   "language": "python",
   "name": "python3"
  },
  "language_info": {
   "codemirror_mode": {
    "name": "ipython",
    "version": 3
   },
   "file_extension": ".py",
   "mimetype": "text/x-python",
   "name": "python",
   "nbconvert_exporter": "python",
   "pygments_lexer": "ipython3",
   "version": "3.7.9"
  }
 },
 "nbformat": 4,
 "nbformat_minor": 5
}
