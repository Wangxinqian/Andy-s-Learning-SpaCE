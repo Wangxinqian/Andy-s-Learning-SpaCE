{
 "cells": [
  {
   "cell_type": "markdown",
   "id": "turkish-layer",
   "metadata": {},
   "source": [
    "## Q5"
   ]
  },
  {
   "cell_type": "markdown",
   "id": "cleared-variance",
   "metadata": {},
   "source": [
    "### reference: http://www.math.ntu.edu.tw/~hchen/teaching/StatInference/notes/lecture23.pdf"
   ]
  },
  {
   "cell_type": "markdown",
   "id": "documentary-prevention",
   "metadata": {},
   "source": [
    "For any $y$ such that $f_{Y}(y)>0$, the conditional pdf of $X$ given that $Y=y$ is the function of\n",
    "$x$ denoted by $f(x \\mid y)$ and defined by"
   ]
  },
  {
   "cell_type": "markdown",
   "id": "accurate-typing",
   "metadata": {},
   "source": [
    "$f(y \\mid x)=\\frac{f(x, y)}{f_{X}(x)}$\n",
    "\n",
    "$f(x \\mid y)=\\frac{f(x, y)}{f_{Y}(y)}$\n",
    "\n",
    "$\\forall \\;x \\geqslant 0 ,\\;y \\geqslant 0$\n",
    "\n",
    "$\n",
    "\\begin{eqnarray} \n",
    "f_{X}(x)\n",
    "&=& \\int_{0}^{+\\infty }f(x, y)dy \\\\\n",
    "&=& \\int_{0}^{+\\infty }ce^{-(xy+x+y)}dy \\\\\n",
    "&=& \\int_{0}^{+\\infty }c \\cdot e^{-x} \\cdot e^{-(x+1)y}dy \\\\\n",
    "&=& c \\cdot e^{-x} \\cdot \\frac{1}{-(1+x)} \\cdot \\underset{y\\rightarrow +\\infty }{lim} (e^{-(1+x)y}-1) \\\\\n",
    "&=& \\frac{c \\cdot e^{-x}}{1+x}\n",
    "\\end{eqnarray} \\\\\n",
    "$\n",
    "\n",
    "$\n",
    "\\begin{eqnarray} \n",
    "\\texttt{Similarly, marginal of Y:} \\\\\n",
    "f_{Y}(y) = \\frac{c \\cdot e^{-y}}{1+y}\n",
    "\\end{eqnarray} \\\\\n",
    "$\n",
    "\n",
    "$f(y \\mid x) =\\frac{f(x, y)}{f_{X}(x)} = (1+x)e^{-y(1+x)} = Exp(y;\\lambda = (1+x))\\\\$\n",
    "$f(x \\mid y) =\\frac{f(x, y)}{f_{Y}(y)} = (1+y)e^{-x(1+y)} = Exp(x;\\lambda = (1+y))$"
   ]
  },
  {
   "cell_type": "markdown",
   "id": "unique-london",
   "metadata": {},
   "source": [
    "$\n",
    "\\begin{eqnarray} \n",
    "\\texttt{Conclusion, for given Y=y: } X \\sim Exp(1+y) \\\\\n",
    "\\texttt{        for given X=x: } Y \\sim Exp(1+x)\n",
    "\\end{eqnarray} \\\\\n",
    "$"
   ]
  },
  {
   "cell_type": "code",
   "execution_count": 1,
   "id": "convenient-mozambique",
   "metadata": {},
   "outputs": [],
   "source": [
    "#Import libraries\n",
    "from scipy.stats import expon\n",
    "import math\n",
    "import numpy as np\n",
    "import matplotlib.pyplot as plt"
   ]
  },
  {
   "cell_type": "code",
   "execution_count": 2,
   "id": "vital-humor",
   "metadata": {},
   "outputs": [],
   "source": [
    "#Set the seed\n",
    "np.random.seed(44)"
   ]
  },
  {
   "cell_type": "code",
   "execution_count": 3,
   "id": "better-fitting",
   "metadata": {},
   "outputs": [],
   "source": [
    "# initial values\n",
    "x = 1"
   ]
  },
  {
   "cell_type": "code",
   "execution_count": 4,
   "id": "baking-safety",
   "metadata": {},
   "outputs": [],
   "source": [
    "# simulation parameters\n",
    "N = 1000\n",
    "burnin = 300"
   ]
  },
  {
   "cell_type": "code",
   "execution_count": 5,
   "id": "cardiac-malpractice",
   "metadata": {},
   "outputs": [],
   "source": [
    "#Using a list store the x_i and y_i\n",
    "X_Sample = []\n",
    "Y_Sample = []"
   ]
  },
  {
   "cell_type": "code",
   "execution_count": 6,
   "id": "general-austria",
   "metadata": {},
   "outputs": [],
   "source": [
    "for i in range(N+burnin):\n",
    "    #Sampling y for given x\n",
    "    y = float(np.random.exponential(1+x, 1))\n",
    "    x = float(np.random.exponential(1+y, 1))\n",
    "\n",
    "    #Upgrading\n",
    "    if i >= burnin:\n",
    "        #Store the data\n",
    "        X_Sample.append(x)\n",
    "        Y_Sample.append(y)"
   ]
  },
  {
   "cell_type": "code",
   "execution_count": 7,
   "id": "marine-brake",
   "metadata": {},
   "outputs": [
    {
     "data": {
      "text/plain": [
       "Text(0, 0.5, 'y')"
      ]
     },
     "execution_count": 7,
     "metadata": {},
     "output_type": "execute_result"
    },
    {
     "data": {
      "image/png": "[encoded data removed]",
      "text/plain": [
       "<Figure size 432x288 with 1 Axes>"
      ]
     },
     "metadata": {
      "needs_background": "light"
     },
     "output_type": "display_data"
    }
   ],
   "source": [
    "synth_plot = plt.scatter(X_Sample, Y_Sample,s=2)\n",
    "plt.xlabel(\"x\")\n",
    "plt.ylabel(\"y\")"
   ]
  },
  {
   "cell_type": "markdown",
   "id": "identical-likelihood",
   "metadata": {},
   "source": [
    "pop_list = []\n",
    "for i in range(0,len(X_Sample)):\n",
    "    if X_Sample[i]>500 or Y_Sample[i]>500:\n",
    "        pop_list.append(i)\n",
    "    else:\n",
    "        pass\n",
    "X_Sample = [X_Sample[i] for i in range(len(X_Sample)) if i not in pop_list]\n",
    "Y_Sample = [Y_Sample[i] for i in range(len(Y_Sample)) if i not in pop_list]\n",
    "synth_plot = plt.scatter(X_Sample, Y_Sample,s=2)\n",
    "plt.xlabel(\"x\")\n",
    "plt.ylabel(\"y\")"
   ]
  },
  {
   "cell_type": "markdown",
   "id": "progressive-chancellor",
   "metadata": {},
   "source": [
    "pop_list = []\n",
    "for i in range(0,len(X_Sample)):\n",
    "    if X_Sample[i]>80 or Y_Sample[i]>80:\n",
    "        pop_list.append(i)\n",
    "    else:\n",
    "        pass\n",
    "X_Sample = [X_Sample[i] for i in range(len(X_Sample)) if i not in pop_list]\n",
    "Y_Sample = [Y_Sample[i] for i in range(len(Y_Sample)) if i not in pop_list]\n",
    "synth_plot = plt.scatter(X_Sample, Y_Sample,s=2)\n",
    "plt.xlabel(\"x\")\n",
    "plt.ylabel(\"y\")"
   ]
  },
  {
   "cell_type": "markdown",
   "id": "medieval-peter",
   "metadata": {},
   "source": [
    "pop_list = []\n",
    "for i in range(0,len(X_Sample)):\n",
    "    if X_Sample[i]>16 or Y_Sample[i]>16:\n",
    "        pop_list.append(i)\n",
    "    else:\n",
    "        pass\n",
    "X_Sample = [X_Sample[i] for i in range(len(X_Sample)) if i not in pop_list]\n",
    "Y_Sample = [Y_Sample[i] for i in range(len(Y_Sample)) if i not in pop_list]\n",
    "synth_plot = plt.scatter(X_Sample, Y_Sample,s=2)\n",
    "plt.xlabel(\"x\")\n",
    "plt.ylabel(\"y\")"
   ]
  },
  {
   "cell_type": "markdown",
   "id": "native-territory",
   "metadata": {},
   "source": [
    "pop_list = []\n",
    "for i in range(0,len(X_Sample)):\n",
    "    if X_Sample[i]>3.2 or Y_Sample[i]>3.2:\n",
    "        pop_list.append(i)\n",
    "    else:\n",
    "        pass\n",
    "X_Sample = [X_Sample[i] for i in range(len(X_Sample)) if i not in pop_list]\n",
    "Y_Sample = [Y_Sample[i] for i in range(len(Y_Sample)) if i not in pop_list]\n",
    "synth_plot = plt.scatter(X_Sample, Y_Sample,s=2)\n",
    "plt.xlabel(\"x\")\n",
    "plt.ylabel(\"y\")"
   ]
  },
  {
   "cell_type": "markdown",
   "id": "mediterranean-liechtenstein",
   "metadata": {},
   "source": [
    "sum = 0\n",
    "for i in range(N):\n",
    "    x = X_Sample[i]\n",
    "    y = Y_Sample[i]\n",
    "    k = x+y+x*y\n",
    "    try:\n",
    "        s = 1/(math.exp(k))\n",
    "    except OverflowError:\n",
    "        s = 0\n",
    "    sum = sum + s\n",
    "print(sum/1000)"
   ]
  },
  {
   "cell_type": "code",
   "execution_count": 8,
   "id": "informal-cornell",
   "metadata": {},
   "outputs": [],
   "source": [
    "def Gibbs_Sampling(N, burnin, initial_value,seed=None):\n",
    "    if seed!=None:\n",
    "        np.random.seed(seed)\n",
    "\n",
    "    X_Sample = []\n",
    "    Y_Sample = []\n",
    "    x = initial_value\n",
    "    for i in range(N+burnin):\n",
    "        #Sampling y for given x\n",
    "        y = float(np.random.exponential(1+x, 1))\n",
    "        x = float(np.random.exponential(1+y, 1))\n",
    "\n",
    "        #Upgrading\n",
    "        if i >= burnin:\n",
    "            #Store the data\n",
    "            X_Sample.append(x)\n",
    "            Y_Sample.append(y)\n",
    "    sum = 0\n",
    "    for i in range(N):\n",
    "        x = X_Sample[i]\n",
    "        y = Y_Sample[i]\n",
    "        k = x+y+x*y\n",
    "        try:\n",
    "            s = 1/(math.exp(k))\n",
    "        except OverflowError:\n",
    "            s = 0\n",
    "        sum = sum + s\n",
    "    return sum/N"
   ]
  },
  {
   "cell_type": "raw",
   "id": "color-graph",
   "metadata": {},
   "source": [
    "# simulation parameters\n",
    "N = 10000\n",
    "burnin = 200\n",
    "initial_value = 2\n",
    "Gibbs_Sampling(N, burnin, initial_value)"
   ]
  },
  {
   "cell_type": "code",
   "execution_count": 10,
   "id": "collect-continent",
   "metadata": {},
   "outputs": [
    {
     "name": "stdout",
     "output_type": "stream",
     "text": [
      "Average is:  0.06960987528553901\n"
     ]
    },
    {
     "data": {
      "image/png": "[encoded data removed]",
      "text/plain": [
       "<Figure size 432x288 with 1 Axes>"
      ]
     },
     "metadata": {
      "needs_background": "light"
     },
     "output_type": "display_data"
    }
   ],
   "source": [
    "C = []\n",
    "N = 1000\n",
    "burnin = 100\n",
    "initial_value = 10\n",
    "for i in range(N):\n",
    "    C.append(Gibbs_Sampling(N, burnin, initial_value))\n",
    "synth_plot = plt.scatter([i for i in range(N)], C, s=1)\n",
    "plt.xlabel(\"the i-th sample\")\n",
    "plt.ylabel(\"the value of c^-1\")\n",
    "print(\"Average is: \",np.mean(C))"
   ]
  },
  {
   "cell_type": "code",
   "execution_count": null,
   "id": "bulgarian-publisher",
   "metadata": {},
   "outputs": [],
   "source": []
  }
 ],
 "metadata": {
  "kernelspec": {
   "display_name": "Python 3",
   "language": "python",
   "name": "python3"
  },
  "language_info": {
   "codemirror_mode": {
    "name": "ipython",
    "version": 3
   },
   "file_extension": ".py",
   "mimetype": "text/x-python",
   "name": "python",
   "nbconvert_exporter": "python",
   "pygments_lexer": "ipython3",
   "version": "3.7.9"
  }
 },
 "nbformat": 4,
 "nbformat_minor": 5
}
