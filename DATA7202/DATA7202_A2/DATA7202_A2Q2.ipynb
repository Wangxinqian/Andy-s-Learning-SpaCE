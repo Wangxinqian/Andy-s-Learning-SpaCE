{
 "cells": [
  {
   "cell_type": "code",
   "execution_count": 1,
   "id": "hourly-cloud",
   "metadata": {},
   "outputs": [],
   "source": [
    "# Package implementation\n",
    "import pandas as pd\n",
    "import numpy as np\n",
    "#from sklearn.preprocessing import OneHotEncoder\n",
    "#from sklearn.preprocessing import LabelEncoder\n",
    "\n",
    "import statsmodels.api as sm\n",
    "from statsmodels.formula.api import ols\n",
    "from statsmodels.formula.api import poisson\n",
    "import matplotlib.pyplot as plt"
   ]
  },
  {
   "cell_type": "code",
   "execution_count": 2,
   "id": "plastic-emergency",
   "metadata": {},
   "outputs": [
    {
     "data": {
      "text/plain": [
       "\"\\nenc = OneHotEncoder(handle_unknown='ignore')\\nlabelencoder = LabelEncoder()\\n\\nenc_df_League = pd.DataFrame(enc.fit_transform(df[['type']]).toarray())\\ndf['Type_A'] = labelencoder.fit_transform(enc_df_League[0])\\ndf['Type_B'] = labelencoder.fit_transform(enc_df_League[1])\\ndf['Type_C'] = labelencoder.fit_transform(enc_df_League[2])\\ndf['Type_D'] = labelencoder.fit_transform(enc_df_League[3])\\ndf['Type_E'] = labelencoder.fit_transform(enc_df_League[4])\\n\\nenc_df_League = pd.DataFrame(enc.fit_transform(df[['construction']]).toarray())\\ndf['Con_1'] = labelencoder.fit_transform(enc_df_League[0])\\ndf['Con_2'] = labelencoder.fit_transform(enc_df_League[1])\\ndf['Con_3'] = labelencoder.fit_transform(enc_df_League[2])\\ndf['Con_4'] = labelencoder.fit_transform(enc_df_League[3])\\n\""
      ]
     },
     "execution_count": 2,
     "metadata": {},
     "output_type": "execute_result"
    }
   ],
   "source": [
    "df = pd.read_csv(\"ships.csv\")\n",
    "'''\n",
    "enc = OneHotEncoder(handle_unknown='ignore')\n",
    "labelencoder = LabelEncoder()\n",
    "\n",
    "enc_df_League = pd.DataFrame(enc.fit_transform(df[['type']]).toarray())\n",
    "df['Type_A'] = labelencoder.fit_transform(enc_df_League[0])\n",
    "df['Type_B'] = labelencoder.fit_transform(enc_df_League[1])\n",
    "df['Type_C'] = labelencoder.fit_transform(enc_df_League[2])\n",
    "df['Type_D'] = labelencoder.fit_transform(enc_df_League[3])\n",
    "df['Type_E'] = labelencoder.fit_transform(enc_df_League[4])\n",
    "\n",
    "enc_df_League = pd.DataFrame(enc.fit_transform(df[['construction']]).toarray())\n",
    "df['Con_1'] = labelencoder.fit_transform(enc_df_League[0])\n",
    "df['Con_2'] = labelencoder.fit_transform(enc_df_League[1])\n",
    "df['Con_3'] = labelencoder.fit_transform(enc_df_League[2])\n",
    "df['Con_4'] = labelencoder.fit_transform(enc_df_League[3])\n",
    "'''\n",
    "\n",
    "#df = df.drop(['type', 'construction'], axis=1)"
   ]
  },
  {
   "cell_type": "code",
   "execution_count": 4,
   "id": "resident-warrant",
   "metadata": {},
   "outputs": [],
   "source": [
    "Y = df[\"damage\"]\n",
    "X = df.drop(['damage'], axis=1)"
   ]
  },
  {
   "cell_type": "code",
   "execution_count": 5,
   "id": "closed-correction",
   "metadata": {},
   "outputs": [
    {
     "name": "stdout",
     "output_type": "stream",
     "text": [
      "                 Generalized Linear Model Regression Results                  \n",
      "==============================================================================\n",
      "Dep. Variable:                 damage   No. Observations:                   34\n",
      "Model:                            GLM   Df Residuals:                       30\n",
      "Model Family:                 Poisson   Df Model:                            3\n",
      "Link Function:                    log   Scale:                          1.0000\n",
      "Method:                          IRLS   Log-Likelihood:                -145.96\n",
      "Date:                Mon, 12 Apr 2021   Deviance:                       194.06\n",
      "Time:                        13:30:54   Pearson chi2:                     178.\n",
      "No. Iterations:                     6                                         \n",
      "Covariance Type:            nonrobust                                         \n",
      "================================================================================\n",
      "                   coef    std err          z      P>|z|      [0.025      0.975]\n",
      "--------------------------------------------------------------------------------\n",
      "type            -0.2237      0.048     -4.693      0.000      -0.317      -0.130\n",
      "construction     0.3714      0.060      6.231      0.000       0.255       0.488\n",
      "operation        0.7680      0.103      7.471      0.000       0.567       0.969\n",
      "months        8.095e-05   2.84e-06     28.487      0.000    7.54e-05    8.65e-05\n",
      "================================================================================\n"
     ]
    }
   ],
   "source": [
    "model = sm.GLM(Y,X,family=sm.families.Poisson())\n",
    "results = model.fit()\n",
    "print(results.summary())"
   ]
  },
  {
   "cell_type": "code",
   "execution_count": null,
   "id": "dominican-definition",
   "metadata": {},
   "outputs": [],
   "source": []
  }
 ],
 "metadata": {
  "kernelspec": {
   "display_name": "Python 3",
   "language": "python",
   "name": "python3"
  },
  "language_info": {
   "codemirror_mode": {
    "name": "ipython",
    "version": 3
   },
   "file_extension": ".py",
   "mimetype": "text/x-python",
   "name": "python",
   "nbconvert_exporter": "python",
   "pygments_lexer": "ipython3",
   "version": "3.7.9"
  }
 },
 "nbformat": 4,
 "nbformat_minor": 5
}
