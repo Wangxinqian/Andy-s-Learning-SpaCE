{
 "cells": [
  {
   "cell_type": "markdown",
   "id": "little-settlement",
   "metadata": {},
   "source": [
    "## Python Kernel (Please execute the R-Kernel model below:)"
   ]
  },
  {
   "cell_type": "code",
   "execution_count": 48,
   "id": "entire-decision",
   "metadata": {},
   "outputs": [],
   "source": [
    "# Package implementation\n",
    "import pandas as pd\n",
    "import numpy as np\n",
    "import statsmodels.api as sm\n",
    "from statsmodels.graphics.gofplots import ProbPlot\n",
    "import matplotlib.pyplot as plt\n",
    "import pylab\n",
    "import seaborn as sns"
   ]
  },
  {
   "cell_type": "code",
   "execution_count": 49,
   "id": "possible-authority",
   "metadata": {},
   "outputs": [],
   "source": [
    "df = pd.read_csv(\"softdrink.csv\")\n",
    "df.insert(df.shape[1], 'Interept', 1)"
   ]
  },
  {
   "cell_type": "code",
   "execution_count": 50,
   "id": "solved-little",
   "metadata": {},
   "outputs": [],
   "source": [
    "Y = df[\"Time\"]\n",
    "X = df.drop(['Time'], axis=1)"
   ]
  },
  {
   "cell_type": "code",
   "execution_count": 51,
   "id": "sought-guinea",
   "metadata": {
    "scrolled": true
   },
   "outputs": [
    {
     "name": "stdout",
     "output_type": "stream",
     "text": [
      "                            OLS Regression Results                            \n",
      "==============================================================================\n",
      "Dep. Variable:                   Time   R-squared:                       0.960\n",
      "Model:                            OLS   Adj. R-squared:                  0.956\n",
      "Method:                 Least Squares   F-statistic:                     261.2\n",
      "Date:                Tue, 13 Apr 2021   Prob (F-statistic):           4.69e-16\n",
      "Time:                        10:17:00   Log-Likelihood:                -63.415\n",
      "No. Observations:                  25   AIC:                             132.8\n",
      "Df Residuals:                      22   BIC:                             136.5\n",
      "Df Model:                           2                                         \n",
      "Covariance Type:            nonrobust                                         \n",
      "==============================================================================\n",
      "                 coef    std err          t      P>|t|      [0.025      0.975]\n",
      "------------------------------------------------------------------------------\n",
      "Cases          1.6159      0.171      9.464      0.000       1.262       1.970\n",
      "Distance       0.0144      0.004      3.981      0.001       0.007       0.022\n",
      "Interept       2.3412      1.097      2.135      0.044       0.067       4.616\n",
      "==============================================================================\n",
      "Omnibus:                        0.421   Durbin-Watson:                   1.170\n",
      "Prob(Omnibus):                  0.810   Jarque-Bera (JB):                0.010\n",
      "Skew:                           0.032   Prob(JB):                        0.995\n",
      "Kurtosis:                       3.073   Cond. No.                         873.\n",
      "==============================================================================\n",
      "\n",
      "Notes:\n",
      "[1] Standard Errors assume that the covariance matrix of the errors is correctly specified.\n"
     ]
    }
   ],
   "source": [
    "multi_lin_reg = sm.OLS(Y, X).fit() \n",
    "print(multi_lin_reg.summary())"
   ]
  },
  {
   "cell_type": "code",
   "execution_count": 52,
   "id": "known-separate",
   "metadata": {},
   "outputs": [
    {
     "data": {
      "text/plain": [
       "3.2594734475800964"
      ]
     },
     "execution_count": 52,
     "metadata": {},
     "output_type": "execute_result"
    }
   ],
   "source": [
    "#residual standard error/residual standard deviation\n",
    "a = abs(Y-multi_lin_reg.predict(X)).values\n",
    "a = a**2\n",
    "(sum(a)/22)**0.5"
   ]
  },
  {
   "cell_type": "code",
   "execution_count": 53,
   "id": "furnished-colors",
   "metadata": {},
   "outputs": [
    {
     "data": {
      "text/plain": [
       "'\\na = abs(Y-multi_lin_reg.predict(X)).values\\nprint(np.std(a, axis=None, dtype=None, out=None, ddof=3, keepdims=np._NoValue))\\nprint((sum((a-np.mean(a))**2)/(np.shape(a)[0]-3))**(0.5))\\n'"
      ]
     },
     "execution_count": 53,
     "metadata": {},
     "output_type": "execute_result"
    }
   ],
   "source": [
    "'''\n",
    "a = abs(Y-multi_lin_reg.predict(X)).values\n",
    "print(np.std(a, axis=None, dtype=None, out=None, ddof=3, keepdims=np._NoValue))\n",
    "print((sum((a-np.mean(a))**2)/(np.shape(a)[0]-3))**(0.5))\n",
    "'''"
   ]
  },
  {
   "cell_type": "code",
   "execution_count": 54,
   "id": "suspected-gabriel",
   "metadata": {
    "scrolled": true
   },
   "outputs": [
    {
     "data": {
      "text/plain": [
       "Cases       3.254932e-09\n",
       "Distance    6.312469e-04\n",
       "Interept    4.417012e-02\n",
       "dtype: float64"
      ]
     },
     "execution_count": 54,
     "metadata": {},
     "output_type": "execute_result"
    }
   ],
   "source": [
    "# pvalues for parameters\n",
    "multi_lin_reg.pvalues"
   ]
  },
  {
   "cell_type": "code",
   "execution_count": 55,
   "id": "operational-carolina",
   "metadata": {},
   "outputs": [
    {
     "data": {
      "image/png": "[encoded data removed]",
      "text/plain": [
       "<Figure size 432x288 with 1 Axes>"
      ]
     },
     "metadata": {
      "needs_background": "light"
     },
     "output_type": "display_data"
    }
   ],
   "source": [
    "sm.qqplot(Y-multi_lin_reg.predict(X).values, line='q')\n",
    "pylab.show()"
   ]
  },
  {
   "cell_type": "code",
   "execution_count": 56,
   "id": "waiting-baking",
   "metadata": {},
   "outputs": [],
   "source": [
    "# model values\n",
    "model_fitted_y = multi_lin_reg.fittedvalues\n",
    "# model residuals\n",
    "model_residuals = multi_lin_reg.resid\n",
    "# normalized residuals\n",
    "model_norm_residuals = multi_lin_reg.get_influence().resid_studentized_internal\n",
    "# absolute squared normalized residuals\n",
    "model_norm_residuals_abs_sqrt = np.sqrt(np.abs(model_norm_residuals))\n",
    "# absolute residuals\n",
    "model_abs_resid = np.abs(model_residuals)\n",
    "# leverage, from statsmodels internals\n",
    "model_leverage = multi_lin_reg.get_influence().hat_matrix_diag\n",
    "# cook's distance, from statsmodels internals\n",
    "model_cooks = multi_lin_reg.get_influence().cooks_distance[0]"
   ]
  },
  {
   "cell_type": "code",
   "execution_count": 57,
   "id": "growing-classification",
   "metadata": {},
   "outputs": [
    {
     "name": "stderr",
     "output_type": "stream",
     "text": [
      "c:\\users\\andy\\appdata\\local\\programs\\python\\python37\\lib\\site-packages\\seaborn\\_decorators.py:43: FutureWarning: Pass the following variables as keyword args: x, y. From version 0.12, the only valid positional argument will be `data`, and passing other arguments without an explicit keyword will result in an error or misinterpretation.\n",
      "  FutureWarning\n"
     ]
    },
    {
     "data": {
      "image/png": "[encoded data removed]",
      "text/plain": [
       "<Figure size 432x288 with 1 Axes>"
      ]
     },
     "metadata": {
      "needs_background": "light"
     },
     "output_type": "display_data"
    }
   ],
   "source": [
    "plot_lm_1 = plt.figure()\n",
    "plot_lm_1.axes[0] = sns.residplot(model_fitted_y, Y, data=df,lowess=True,\n",
    "                                  scatter_kws={'alpha': 0.5},line_kws={'color': 'red', 'lw': 1, 'alpha': 0.8})\n",
    "plot_lm_1.axes[0].set_title('Residuals vs Fitted')\n",
    "plot_lm_1.axes[0].set_xlabel('Fitted values')\n",
    "plot_lm_1.axes[0].set_ylabel('Residuals');"
   ]
  },
  {
   "cell_type": "code",
   "execution_count": 59,
   "id": "moral-humanitarian",
   "metadata": {},
   "outputs": [
    {
     "name": "stderr",
     "output_type": "stream",
     "text": [
      "c:\\users\\andy\\appdata\\local\\programs\\python\\python37\\lib\\site-packages\\seaborn\\_decorators.py:43: FutureWarning: Pass the following variables as keyword args: x, y. From version 0.12, the only valid positional argument will be `data`, and passing other arguments without an explicit keyword will result in an error or misinterpretation.\n",
      "  FutureWarning\n"
     ]
    },
    {
     "data": {
      "image/png": "[encoded data removed]",
      "text/plain": [
       "<Figure size 432x288 with 1 Axes>"
      ]
     },
     "metadata": {
      "needs_background": "light"
     },
     "output_type": "display_data"
    }
   ],
   "source": [
    "plot_lm_4 = plt.figure()\n",
    "plt.scatter(model_leverage, model_norm_residuals, alpha=0.5)\n",
    "sns.regplot(model_leverage, model_norm_residuals,scatter=False,ci=False,lowess=True,line_kws={'color': 'red', 'lw': 1, 'alpha': 0.8});\n",
    "plot_lm_4.axes[0].set_xlim(0, max(model_leverage)+0.01)\n",
    "plot_lm_4.axes[0].set_ylim(-3, 5)\n",
    "plot_lm_4.axes[0].set_title('Residuals vs Leverage')\n",
    "plot_lm_4.axes[0].set_xlabel('Leverage')\n",
    "plot_lm_4.axes[0].set_ylabel('Standardized Residuals');\n",
    "\n",
    "# annotations\n",
    "leverage_top_3 = np.flip(np.argsort(model_cooks), 0)[:3]\n",
    "for i in leverage_top_3:\n",
    "    plot_lm_4.axes[0].annotate(i+1,xy=(model_leverage[i],model_norm_residuals[i]));"
   ]
  },
  {
   "cell_type": "markdown",
   "id": "final-melbourne",
   "metadata": {},
   "source": [
    "## R Kernel"
   ]
  },
  {
   "cell_type": "code",
   "execution_count": 1,
   "id": "forward-stations",
   "metadata": {},
   "outputs": [
    {
     "data": {
      "text/html": [
       "<table class=\"dataframe\">\n",
       "<caption>A data.frame: 25 × 3</caption>\n",
       "<thead>\n",
       "\t<tr><th scope=col>Time</th><th scope=col>Cases</th><th scope=col>Distance</th></tr>\n",
       "\t<tr><th scope=col>&lt;dbl&gt;</th><th scope=col>&lt;int&gt;</th><th scope=col>&lt;int&gt;</th></tr>\n",
       "</thead>\n",
       "<tbody>\n",
       "\t<tr><td>16.68</td><td> 7</td><td> 560</td></tr>\n",
       "\t<tr><td>11.50</td><td> 3</td><td> 220</td></tr>\n",
       "\t<tr><td>12.03</td><td> 3</td><td> 340</td></tr>\n",
       "\t<tr><td>14.88</td><td> 4</td><td>  80</td></tr>\n",
       "\t<tr><td>13.75</td><td> 6</td><td> 150</td></tr>\n",
       "\t<tr><td>18.11</td><td> 7</td><td> 330</td></tr>\n",
       "\t<tr><td> 8.00</td><td> 2</td><td> 110</td></tr>\n",
       "\t<tr><td>17.83</td><td> 7</td><td> 210</td></tr>\n",
       "\t<tr><td>79.24</td><td>30</td><td>1460</td></tr>\n",
       "\t<tr><td>21.50</td><td> 5</td><td> 605</td></tr>\n",
       "\t<tr><td>40.33</td><td>16</td><td> 688</td></tr>\n",
       "\t<tr><td>21.00</td><td>10</td><td> 215</td></tr>\n",
       "\t<tr><td>13.50</td><td> 4</td><td> 255</td></tr>\n",
       "\t<tr><td>19.75</td><td> 6</td><td> 462</td></tr>\n",
       "\t<tr><td>24.00</td><td> 9</td><td> 448</td></tr>\n",
       "\t<tr><td>29.00</td><td>10</td><td> 776</td></tr>\n",
       "\t<tr><td>15.35</td><td> 6</td><td> 200</td></tr>\n",
       "\t<tr><td>19.00</td><td> 7</td><td> 132</td></tr>\n",
       "\t<tr><td> 9.50</td><td> 3</td><td>  36</td></tr>\n",
       "\t<tr><td>35.10</td><td>17</td><td> 770</td></tr>\n",
       "\t<tr><td>17.90</td><td>10</td><td> 140</td></tr>\n",
       "\t<tr><td>52.32</td><td>26</td><td> 810</td></tr>\n",
       "\t<tr><td>18.75</td><td> 9</td><td> 450</td></tr>\n",
       "\t<tr><td>19.83</td><td> 8</td><td> 635</td></tr>\n",
       "\t<tr><td>10.75</td><td> 4</td><td> 150</td></tr>\n",
       "</tbody>\n",
       "</table>\n"
      ],
      "text/latex": [
       "A data.frame: 25 × 3\n",
       "\\begin{tabular}{lll}\n",
       " Time & Cases & Distance\\\\\n",
       " <dbl> & <int> & <int>\\\\\n",
       "\\hline\n",
       "\t 16.68 &  7 &  560\\\\\n",
       "\t 11.50 &  3 &  220\\\\\n",
       "\t 12.03 &  3 &  340\\\\\n",
       "\t 14.88 &  4 &   80\\\\\n",
       "\t 13.75 &  6 &  150\\\\\n",
       "\t 18.11 &  7 &  330\\\\\n",
       "\t  8.00 &  2 &  110\\\\\n",
       "\t 17.83 &  7 &  210\\\\\n",
       "\t 79.24 & 30 & 1460\\\\\n",
       "\t 21.50 &  5 &  605\\\\\n",
       "\t 40.33 & 16 &  688\\\\\n",
       "\t 21.00 & 10 &  215\\\\\n",
       "\t 13.50 &  4 &  255\\\\\n",
       "\t 19.75 &  6 &  462\\\\\n",
       "\t 24.00 &  9 &  448\\\\\n",
       "\t 29.00 & 10 &  776\\\\\n",
       "\t 15.35 &  6 &  200\\\\\n",
       "\t 19.00 &  7 &  132\\\\\n",
       "\t  9.50 &  3 &   36\\\\\n",
       "\t 35.10 & 17 &  770\\\\\n",
       "\t 17.90 & 10 &  140\\\\\n",
       "\t 52.32 & 26 &  810\\\\\n",
       "\t 18.75 &  9 &  450\\\\\n",
       "\t 19.83 &  8 &  635\\\\\n",
       "\t 10.75 &  4 &  150\\\\\n",
       "\\end{tabular}\n"
      ],
      "text/markdown": [
       "\n",
       "A data.frame: 25 × 3\n",
       "\n",
       "| Time &lt;dbl&gt; | Cases &lt;int&gt; | Distance &lt;int&gt; |\n",
       "|---|---|---|\n",
       "| 16.68 |  7 |  560 |\n",
       "| 11.50 |  3 |  220 |\n",
       "| 12.03 |  3 |  340 |\n",
       "| 14.88 |  4 |   80 |\n",
       "| 13.75 |  6 |  150 |\n",
       "| 18.11 |  7 |  330 |\n",
       "|  8.00 |  2 |  110 |\n",
       "| 17.83 |  7 |  210 |\n",
       "| 79.24 | 30 | 1460 |\n",
       "| 21.50 |  5 |  605 |\n",
       "| 40.33 | 16 |  688 |\n",
       "| 21.00 | 10 |  215 |\n",
       "| 13.50 |  4 |  255 |\n",
       "| 19.75 |  6 |  462 |\n",
       "| 24.00 |  9 |  448 |\n",
       "| 29.00 | 10 |  776 |\n",
       "| 15.35 |  6 |  200 |\n",
       "| 19.00 |  7 |  132 |\n",
       "|  9.50 |  3 |   36 |\n",
       "| 35.10 | 17 |  770 |\n",
       "| 17.90 | 10 |  140 |\n",
       "| 52.32 | 26 |  810 |\n",
       "| 18.75 |  9 |  450 |\n",
       "| 19.83 |  8 |  635 |\n",
       "| 10.75 |  4 |  150 |\n",
       "\n"
      ],
      "text/plain": [
       "   Time  Cases Distance\n",
       "1  16.68  7     560    \n",
       "2  11.50  3     220    \n",
       "3  12.03  3     340    \n",
       "4  14.88  4      80    \n",
       "5  13.75  6     150    \n",
       "6  18.11  7     330    \n",
       "7   8.00  2     110    \n",
       "8  17.83  7     210    \n",
       "9  79.24 30    1460    \n",
       "10 21.50  5     605    \n",
       "11 40.33 16     688    \n",
       "12 21.00 10     215    \n",
       "13 13.50  4     255    \n",
       "14 19.75  6     462    \n",
       "15 24.00  9     448    \n",
       "16 29.00 10     776    \n",
       "17 15.35  6     200    \n",
       "18 19.00  7     132    \n",
       "19  9.50  3      36    \n",
       "20 35.10 17     770    \n",
       "21 17.90 10     140    \n",
       "22 52.32 26     810    \n",
       "23 18.75  9     450    \n",
       "24 19.83  8     635    \n",
       "25 10.75  4     150    "
      ]
     },
     "metadata": {},
     "output_type": "display_data"
    }
   ],
   "source": [
    "# read data\n",
    "data = read.csv(\"softdrink.csv\")\n",
    "data"
   ]
  },
  {
   "cell_type": "code",
   "execution_count": 2,
   "id": "understanding-friendship",
   "metadata": {
    "scrolled": true
   },
   "outputs": [
    {
     "data": {
      "text/plain": [
       "\n",
       "Call:\n",
       "lm(formula = Time ~ Cases + Distance, data = data)\n",
       "\n",
       "Residuals:\n",
       "    Min      1Q  Median      3Q     Max \n",
       "-5.7880 -0.6629  0.4364  1.1566  7.4197 \n",
       "\n",
       "Coefficients:\n",
       "            Estimate Std. Error t value Pr(>|t|)    \n",
       "(Intercept) 2.341231   1.096730   2.135 0.044170 *  \n",
       "Cases       1.615907   0.170735   9.464 3.25e-09 ***\n",
       "Distance    0.014385   0.003613   3.981 0.000631 ***\n",
       "---\n",
       "Signif. codes:  0 '***' 0.001 '**' 0.01 '*' 0.05 '.' 0.1 ' ' 1\n",
       "\n",
       "Residual standard error: 3.259 on 22 degrees of freedom\n",
       "Multiple R-squared:  0.9596,\tAdjusted R-squared:  0.9559 \n",
       "F-statistic: 261.2 on 2 and 22 DF,  p-value: 4.687e-16\n"
      ]
     },
     "metadata": {},
     "output_type": "display_data"
    }
   ],
   "source": [
    "fit = lm(Time~Cases+Distance,data=data)\n",
    "summary(fit)"
   ]
  },
  {
   "cell_type": "markdown",
   "id": "lyric-message",
   "metadata": {},
   "source": [
    "$$\n",
    "\\text { Residual standard error }=\\sqrt{\\frac{\\sum_{i=1}^{n}\\left(Y_{i}-\\hat{\\mathrm{Y}}_{i}\\right)^{2}}{\\mathrm{df}}}\n",
    "$$"
   ]
  },
  {
   "cell_type": "code",
   "execution_count": 6,
   "id": "contemporary-banana",
   "metadata": {},
   "outputs": [
    {
     "data": {
      "image/png": "[encoded data removed]",
      "text/plain": [
       "plot without title"
      ]
     },
     "metadata": {
      "image/png": {
       "height": 420,
       "width": 420
      }
     },
     "output_type": "display_data"
    }
   ],
   "source": [
    "res = resid(fit)\n",
    "plot(fitted(fit), res)\n",
    "abline(0,0)"
   ]
  },
  {
   "cell_type": "code",
   "execution_count": 3,
   "id": "invisible-lighter",
   "metadata": {},
   "outputs": [
    {
     "data": {
      "image/png": "[encoded data removed]",
      "text/plain": [
       "Plot with title \"Histogram of residuals(fit)\""
      ]
     },
     "metadata": {
      "image/png": {
       "height": 420,
       "width": 420
      }
     },
     "output_type": "display_data"
    }
   ],
   "source": [
    "hist(residuals(fit))"
   ]
  },
  {
   "cell_type": "raw",
   "id": "turkish-chance",
   "metadata": {},
   "source": [
    "The histogram shows most of the residuals have the values range between -2 and 2."
   ]
  },
  {
   "cell_type": "code",
   "execution_count": 4,
   "id": "republican-proof",
   "metadata": {},
   "outputs": [
    {
     "data": {
      "image/png": "[encoded data removed]",
      "text/plain": [
       "Plot with title \"\""
      ]
     },
     "metadata": {
      "image/png": {
       "height": 420,
       "width": 420
      }
     },
     "output_type": "display_data"
    }
   ],
   "source": [
    "par(mfrow=c(2,2))\n",
    "plot(fit,pch=16)"
   ]
  },
  {
   "cell_type": "raw",
   "id": "parliamentary-edinburgh",
   "metadata": {
    "scrolled": true
   },
   "source": [
    "The Residuals vs Fitted plot shows whether the residuals have non-linear patterns. The plot fails to show equally spread residuals around a horizontal line without distinct patterns, which indicates that the non-linear relationship was not explained by the model and was left out in the residuals.\n",
    "\n",
    "The QQ plot is used to show if the residuals are normally distributed or not. The plot just tells that the residuals are probably not following a normal distribution.\n",
    "\n",
    "The Spread-Location plot shows if residuals are spread equally along the ranges of predictors. The plot shows that most of the residuals are spreaded in the left side of the plot whereas only a few points distributed on the right. Especially the 9th point, It's value seems not common as other points.\n",
    "\n",
    "This plot helps us to find influential cases if any. Not all outliers are influential in linear regression analysis (whatever outliers mean). It is usually the case that a point is judged as an outlier if it's cook's distance is greater than 0.5. In this case, the point 22 and point 9 would interest us to do further research, which also means they are more influential than any other points when the regression model is decided."
   ]
  },
  {
   "cell_type": "code",
   "execution_count": 5,
   "id": "hungarian-explorer",
   "metadata": {},
   "outputs": [
    {
     "data": {
      "text/plain": [
       "Influence measures of\n",
       "\t lm(formula = Time ~ Cases + Distance, data = data) :\n",
       "\n",
       "     dfb.1_ dfb.Cass dfb.Dstn   dffit cov.r   cook.d    hat inf\n",
       "1  -0.18727  0.41131 -0.43486 -0.5709 0.871 1.00e-01 0.1018    \n",
       "2   0.08979 -0.04776  0.01441  0.0986 1.215 3.38e-03 0.0707    \n",
       "3  -0.00352  0.00395 -0.00285 -0.0052 1.276 9.46e-06 0.0987    \n",
       "4   0.45196  0.08828 -0.27337  0.5008 0.876 7.76e-02 0.0854    \n",
       "5  -0.03167 -0.01330  0.02424 -0.0395 1.240 5.43e-04 0.0750    \n",
       "6  -0.01468  0.00179  0.00108 -0.0188 1.200 1.23e-04 0.0429    \n",
       "7   0.07807 -0.02228 -0.01102  0.0790 1.240 2.17e-03 0.0818    \n",
       "8   0.07120  0.03338 -0.05382  0.0938 1.206 3.05e-03 0.0637    \n",
       "9  -2.57574  0.92874  1.50755  4.2961 0.342 3.42e+00 0.4983   *\n",
       "10  0.10792 -0.33816  0.34133  0.3987 1.305 5.38e-02 0.1963    \n",
       "11 -0.03427  0.09253 -0.00269  0.2180 1.172 1.62e-02 0.0861    \n",
       "12 -0.03027 -0.04867  0.05397 -0.0677 1.291 1.60e-03 0.1137    \n",
       "13  0.07237 -0.03562  0.01134  0.0813 1.207 2.29e-03 0.0611    \n",
       "14  0.04952 -0.06709  0.06182  0.0974 1.228 3.29e-03 0.0782    \n",
       "15  0.02228 -0.00479  0.00684  0.0426 1.192 6.32e-04 0.0411    \n",
       "16 -0.00269  0.06442 -0.08419 -0.0972 1.369 3.29e-03 0.1659    \n",
       "17  0.02886  0.00649 -0.01570  0.0339 1.219 4.01e-04 0.0594    \n",
       "18  0.24856  0.18973 -0.27243  0.3653 1.069 4.40e-02 0.0963    \n",
       "19  0.17256  0.02357 -0.09897  0.1862 1.215 1.19e-02 0.0964    \n",
       "20  0.16804 -0.21500 -0.09292 -0.6718 0.760 1.32e-01 0.1017    \n",
       "21 -0.16193 -0.29718  0.33641 -0.3885 1.238 5.09e-02 0.1653    \n",
       "22  0.39857 -1.02541  0.57314 -1.1950 1.398 4.51e-01 0.3916   *\n",
       "23 -0.15985  0.03729 -0.05265 -0.3075 0.890 2.99e-02 0.0413    \n",
       "24 -0.11972  0.40462 -0.46545 -0.5711 0.948 1.02e-01 0.1206    \n",
       "25 -0.01682  0.00085  0.00559 -0.0176 1.231 1.08e-04 0.0666    "
      ]
     },
     "metadata": {},
     "output_type": "display_data"
    }
   ],
   "source": [
    "influence.measures(fit)"
   ]
  },
  {
   "cell_type": "markdown",
   "id": "weird-jerusalem",
   "metadata": {},
   "source": [
    "## c"
   ]
  },
  {
   "cell_type": "markdown",
   "id": "contemporary-album",
   "metadata": {},
   "source": [
    "### It's the 9th point"
   ]
  },
  {
   "cell_type": "markdown",
   "id": "warming-maple",
   "metadata": {},
   "source": [
    "### Next point would be the 22nd point."
   ]
  },
  {
   "cell_type": "code",
   "execution_count": null,
   "id": "architectural-anger",
   "metadata": {},
   "outputs": [],
   "source": []
  }
 ],
 "metadata": {
  "kernelspec": {
   "display_name": "R",
   "language": "R",
   "name": "ir"
  },
  "language_info": {
   "codemirror_mode": "r",
   "file_extension": ".r",
   "mimetype": "text/x-r-source",
   "name": "R",
   "pygments_lexer": "r",
   "version": "4.0.4"
  }
 },
 "nbformat": 4,
 "nbformat_minor": 5
}
