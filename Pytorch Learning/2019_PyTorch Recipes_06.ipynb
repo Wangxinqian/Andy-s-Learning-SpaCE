{
 "cells": [
  {
   "cell_type": "markdown",
   "id": "tough-appointment",
   "metadata": {},
   "source": [
    "#### The most commonly used deep learning algorithms can be classified into three groups.\n",
    "##### Convolutional neural network\n",
    "##### Recurrent neural network\n",
    "##### Deep neural network"
   ]
  },
  {
   "cell_type": "markdown",
   "id": "charged-memorial",
   "metadata": {},
   "source": [
    "# Recipe 6-1. Building Sequential Neural Networks"
   ]
  },
  {
   "cell_type": "code",
   "execution_count": 1,
   "id": "monthly-incidence",
   "metadata": {},
   "outputs": [],
   "source": [
    "import torch\n",
    "import torch.nn.functional as F"
   ]
  },
  {
   "cell_type": "code",
   "execution_count": 2,
   "id": "gross-affiliate",
   "metadata": {},
   "outputs": [],
   "source": [
    "# replace following class code with an easy sequential network\n",
    "class Net(torch.nn.Module):\n",
    "    def __init__(self, n_feature, n_hidden, n_output):\n",
    "        super(Net, self).__init__()\n",
    "        self.hidden = torch.nn.Linear(n_feature, n_hidden)   # hidden layer\n",
    "        self.predict = torch.nn.Linear(n_hidden, n_output)   # output layer\n",
    "\n",
    "    def forward(self, x):\n",
    "        x = F.relu(self.hidden(x))      # activation function for hidden layer\n",
    "        x = self.predict(x)             # linear output\n",
    "        return x"
   ]
  },
  {
   "cell_type": "code",
   "execution_count": 3,
   "id": "veterinary-september",
   "metadata": {},
   "outputs": [],
   "source": [
    "\n",
    "# easy and fast way to build your network\n",
    "net2 = torch.nn.Sequential(\n",
    "    torch.nn.Linear(1, 100),\n",
    "    torch.nn.ReLU(),\n",
    "    torch.nn.Linear(100, 1)\n",
    ")"
   ]
  },
  {
   "cell_type": "code",
   "execution_count": 5,
   "id": "associate-summary",
   "metadata": {},
   "outputs": [
    {
     "name": "stdout",
     "output_type": "stream",
     "text": [
      "Sequential(\n",
      "  (0): Linear(in_features=1, out_features=100, bias=True)\n",
      "  (1): ReLU()\n",
      "  (2): Linear(in_features=100, out_features=1, bias=True)\n",
      ")\n"
     ]
    }
   ],
   "source": [
    "print(net2)"
   ]
  },
  {
   "cell_type": "markdown",
   "id": "circular-carol",
   "metadata": {},
   "source": [
    "# Recipe 6-2. Deciding the Batch Size Problem"
   ]
  },
  {
   "cell_type": "code",
   "execution_count": 6,
   "id": "nuclear-europe",
   "metadata": {},
   "outputs": [
    {
     "data": {
      "text/plain": [
       "<torch._C.Generator at 0x1c8e5aea490>"
      ]
     },
     "execution_count": 6,
     "metadata": {},
     "output_type": "execute_result"
    }
   ],
   "source": [
    "import torch\n",
    "import torch.utils.data as Data\n",
    "\n",
    "torch.manual_seed(1234)    # reproducible"
   ]
  },
  {
   "cell_type": "code",
   "execution_count": 7,
   "id": "material-dealing",
   "metadata": {},
   "outputs": [],
   "source": [
    "BATCH_SIZE = 5\n",
    "# BATCH_SIZE = 8"
   ]
  },
  {
   "cell_type": "code",
   "execution_count": 8,
   "id": "assigned-kennedy",
   "metadata": {},
   "outputs": [],
   "source": [
    "x = torch.linspace(1, 10, 10)       # this is x data (torch tensor)\n",
    "y = torch.linspace(10, 1, 10)       # this is y data (torch tensor)"
   ]
  },
  {
   "cell_type": "code",
   "execution_count": 11,
   "id": "governmental-response",
   "metadata": {},
   "outputs": [],
   "source": [
    "torch_dataset = Data.TensorDataset(x, y)\n",
    "loader = Data.DataLoader(\n",
    "    dataset=torch_dataset,      # torch TensorDataset format\n",
    "    batch_size=BATCH_SIZE,      # mini batch size\n",
    "    shuffle=True,               # random shuffle for training\n",
    "    num_workers=2,              # subprocesses for loading data\n",
    ")"
   ]
  },
  {
   "cell_type": "raw",
   "id": "rising-comparative",
   "metadata": {},
   "source": [
    "dataloader一次性创建num_worker个worker，（也可以说dataloader一次性创建num_worker个工作进程，worker也是普通的工作进程），\n",
    "\n",
    "并用batch_sampler将指定batch分配给指定worker，worker将它负责的batch加载进RAM。\n",
    "\n",
    "然后，dataloader从RAM中找本轮迭代要用的batch，如果找到了，就使用。\n",
    "如果没找到，就要num_worker个worker继续加载batch到内存，直到dataloader在RAM中找到目标batch。\n",
    "一般情况下都是能找到的，因为batch_sampler指定batch时当然优先指定本轮要用的batch。\n",
    "\n",
    "num_worker设置得大，好处是寻batch速度快，因为下一轮迭代的batch很可能在上一轮/上上一轮...迭代时已经加载好了。\n",
    "坏处是内存开销大，也加重了CPU负担（worker加载数据到RAM的进程是CPU复制的嘛）。\n",
    "num_workers的经验设置值是自己电脑/服务器的CPU核心数，如果CPU很强、RAM也很充足，就可以设置得更大些。\n",
    "\n",
    "如果num_worker设为0，意味着每一轮迭代时，dataloader不再有自主加载数据到RAM这一步骤（因为没有worker了），而是在RAM中找batch，找不到时再加载相应的batch。缺点当然是速度更慢。"
   ]
  },
  {
   "cell_type": "code",
   "execution_count": 12,
   "id": "palestinian-governor",
   "metadata": {},
   "outputs": [
    {
     "name": "stdout",
     "output_type": "stream",
     "text": [
      "Epoch:  0 | Step:  0 | batch x:  [7. 9. 3. 8. 6.] | batch y:  [4. 2. 8. 3. 5.]\n",
      "Epoch:  0 | Step:  1 | batch x:  [10.  5.  2.  4.  1.] | batch y:  [ 1.  6.  9.  7. 10.]\n",
      "Epoch:  1 | Step:  0 | batch x:  [9. 2. 1. 7. 5.] | batch y:  [ 2.  9. 10.  4.  6.]\n",
      "Epoch:  1 | Step:  1 | batch x:  [ 6.  4. 10.  3.  8.] | batch y:  [5. 7. 1. 8. 3.]\n",
      "Epoch:  2 | Step:  0 | batch x:  [10.  1.  3.  8.  5.] | batch y:  [ 1. 10.  8.  3.  6.]\n",
      "Epoch:  2 | Step:  1 | batch x:  [6. 9. 4. 7. 2.] | batch y:  [5. 2. 7. 4. 9.]\n",
      "Epoch:  3 | Step:  0 | batch x:  [2. 6. 3. 4. 7.] | batch y:  [9. 5. 8. 7. 4.]\n",
      "Epoch:  3 | Step:  1 | batch x:  [ 8.  5. 10.  1.  9.] | batch y:  [ 3.  6.  1. 10.  2.]\n",
      "Epoch:  4 | Step:  0 | batch x:  [ 3.  1. 10.  6.  9.] | batch y:  [ 8. 10.  1.  5.  2.]\n",
      "Epoch:  4 | Step:  1 | batch x:  [5. 4. 8. 2. 7.] | batch y:  [6. 7. 3. 9. 4.]\n"
     ]
    }
   ],
   "source": [
    "for epoch in range(5):   # train entire dataset 5 times\n",
    "    for step, (batch_x, batch_y) in enumerate(loader):  # for each training step\n",
    "        # train your data...\n",
    "        print('Epoch: ', epoch, '| Step: ', step, '| batch x: ',\n",
    "              batch_x.numpy(), '| batch y: ', batch_y.numpy())"
   ]
  },
  {
   "cell_type": "code",
   "execution_count": 17,
   "id": "oriented-percentage",
   "metadata": {},
   "outputs": [],
   "source": [
    "BATCH_SIZE = 8\n",
    "loader = Data.DataLoader(\n",
    "    dataset=torch_dataset,      # torch TensorDataset format\n",
    "    batch_size=BATCH_SIZE,      # mini batch size\n",
    "    shuffle=True,               # random shuffle for training\n",
    "    num_workers=2,              # subprocesses for loading data\n",
    ")"
   ]
  },
  {
   "cell_type": "code",
   "execution_count": 18,
   "id": "advance-paint",
   "metadata": {},
   "outputs": [
    {
     "name": "stdout",
     "output_type": "stream",
     "text": [
      "Epoch:  0 | Step:  0 | batch x:  [7. 6. 8. 9. 2. 5. 1. 4.] | batch y:  [ 4.  5.  3.  2.  9.  6. 10.  7.]\n",
      "Epoch:  0 | Step:  1 | batch x:  [10.  3.] | batch y:  [1. 8.]\n",
      "Epoch:  1 | Step:  0 | batch x:  [ 6. 10.  3.  7.  2.  5.  8.  9.] | batch y:  [5. 1. 8. 4. 9. 6. 3. 2.]\n",
      "Epoch:  1 | Step:  1 | batch x:  [1. 4.] | batch y:  [10.  7.]\n",
      "Epoch:  2 | Step:  0 | batch x:  [ 8. 10.  7.  1.  5.  6.  2.  9.] | batch y:  [ 3.  1.  4. 10.  6.  5.  9.  2.]\n",
      "Epoch:  2 | Step:  1 | batch x:  [3. 4.] | batch y:  [8. 7.]\n",
      "Epoch:  3 | Step:  0 | batch x:  [ 4.  8. 10.  6.  5.  2.  7.  3.] | batch y:  [7. 3. 1. 5. 6. 9. 4. 8.]\n",
      "Epoch:  3 | Step:  1 | batch x:  [1. 9.] | batch y:  [10.  2.]\n",
      "Epoch:  4 | Step:  0 | batch x:  [ 7.  5.  6. 10.  3.  8.  4.  2.] | batch y:  [4. 6. 5. 1. 8. 3. 7. 9.]\n",
      "Epoch:  4 | Step:  1 | batch x:  [1. 9.] | batch y:  [10.  2.]\n"
     ]
    }
   ],
   "source": [
    "for epoch in range(5):   # train entire dataset 5 times\n",
    "    for step, (batch_x, batch_y) in enumerate(loader):  # for each training step\n",
    "        # train your data...\n",
    "        print('Epoch: ', epoch, '| Step: ', step, '| batch x: ',\n",
    "              batch_x.numpy(), '| batch y: ', batch_y.numpy())"
   ]
  },
  {
   "cell_type": "code",
   "execution_count": null,
   "id": "satellite-hormone",
   "metadata": {},
   "outputs": [],
   "source": []
  },
  {
   "cell_type": "markdown",
   "id": "applied-secretariat",
   "metadata": {},
   "source": [
    "# Recipe 6-3. Deciding the Learning Rate Problem"
   ]
  },
  {
   "cell_type": "raw",
   "id": "bored-stress",
   "metadata": {},
   "source": [
    "To reach the global minimum state of the loss function,\n",
    "    it is important to keep the learning rate to a minimum and the epoch number to a maximum\n",
    "    so that the iteration can take the loss function to the minimum state."
   ]
  },
  {
   "cell_type": "code",
   "execution_count": 19,
   "id": "constant-runner",
   "metadata": {},
   "outputs": [],
   "source": [
    "import torch\n",
    "import torch.utils.data as Data\n",
    "import torch.nn.functional as F\n",
    "from torch.autograd import Variable\n",
    "import matplotlib.pyplot as plt\n",
    "%matplotlib inline"
   ]
  },
  {
   "cell_type": "code",
   "execution_count": 20,
   "id": "accomplished-reason",
   "metadata": {},
   "outputs": [
    {
     "data": {
      "text/plain": [
       "<torch._C.Generator at 0x1c8e5aea490>"
      ]
     },
     "execution_count": 20,
     "metadata": {},
     "output_type": "execute_result"
    }
   ],
   "source": [
    "torch.manual_seed(12345)    # reproducible"
   ]
  },
  {
   "cell_type": "code",
   "execution_count": 21,
   "id": "dependent-partition",
   "metadata": {},
   "outputs": [],
   "source": [
    "LR = 0.01\n",
    "BATCH_SIZE = 32\n",
    "EPOCH = 12"
   ]
  },
  {
   "cell_type": "code",
   "execution_count": 25,
   "id": "bearing-honor",
   "metadata": {},
   "outputs": [],
   "source": [
    "# Returns a new tensor with a dimension of size one inserted at the specified position."
   ]
  },
  {
   "cell_type": "code",
   "execution_count": 26,
   "id": "straight-bhutan",
   "metadata": {},
   "outputs": [
    {
     "data": {
      "image/png": "[encoded data removed]",
      "text/plain": [
       "<Figure size 432x288 with 1 Axes>"
      ]
     },
     "metadata": {
      "needs_background": "light"
     },
     "output_type": "display_data"
    }
   ],
   "source": [
    "# sample dataset\n",
    "x = torch.unsqueeze(torch.linspace(-1, 1, 1000), dim=1)\n",
    "y = x.pow(2) + 0.3*torch.normal(torch.zeros(*x.size()))\n",
    "\n",
    "# plot dataset\n",
    "plt.scatter(x.numpy(), y.numpy())\n",
    "plt.show()"
   ]
  },
  {
   "cell_type": "code",
   "execution_count": 27,
   "id": "unknown-madness",
   "metadata": {},
   "outputs": [
    {
     "data": {
      "text/plain": [
       "tensor([[-1.0000],\n",
       "        [-0.9980],\n",
       "        [-0.9960],\n",
       "        [-0.9940],\n",
       "        [-0.9920],\n",
       "        [-0.9900],\n",
       "        [-0.9880],\n",
       "        [-0.9860],\n",
       "        [-0.9840],\n",
       "        [-0.9820]])"
      ]
     },
     "execution_count": 27,
     "metadata": {},
     "output_type": "execute_result"
    }
   ],
   "source": [
    "x[0:10]"
   ]
  },
  {
   "cell_type": "code",
   "execution_count": 28,
   "id": "brazilian-credits",
   "metadata": {},
   "outputs": [
    {
     "data": {
      "text/plain": [
       "tensor([[0.3286],\n",
       "        [1.1735],\n",
       "        [1.0732],\n",
       "        [0.8732],\n",
       "        [1.0197],\n",
       "        [1.0370],\n",
       "        [1.4267],\n",
       "        [0.7683],\n",
       "        [0.9545],\n",
       "        [0.7301]])"
      ]
     },
     "execution_count": 28,
     "metadata": {},
     "output_type": "execute_result"
    }
   ],
   "source": [
    "y[0:10]"
   ]
  },
  {
   "cell_type": "code",
   "execution_count": 29,
   "id": "printable-edgar",
   "metadata": {},
   "outputs": [],
   "source": [
    "torch_dataset = Data.TensorDataset(x, y)\n",
    "loader = Data.DataLoader(\n",
    "    dataset=torch_dataset, \n",
    "    batch_size=BATCH_SIZE, \n",
    "    shuffle=True, num_workers=2,)"
   ]
  },
  {
   "cell_type": "code",
   "execution_count": 31,
   "id": "blocked-level",
   "metadata": {},
   "outputs": [
    {
     "data": {
      "text/plain": [
       "<torch.utils.data.dataset.TensorDataset at 0x1c8fb324c88>"
      ]
     },
     "execution_count": 31,
     "metadata": {},
     "output_type": "execute_result"
    }
   ],
   "source": [
    "torch_dataset"
   ]
  },
  {
   "cell_type": "code",
   "execution_count": 32,
   "id": "under-prospect",
   "metadata": {},
   "outputs": [
    {
     "data": {
      "text/plain": [
       "<torch.utils.data.dataloader.DataLoader at 0x1c8fb324c48>"
      ]
     },
     "execution_count": 32,
     "metadata": {},
     "output_type": "execute_result"
    }
   ],
   "source": [
    "loader"
   ]
  },
  {
   "cell_type": "code",
   "execution_count": 33,
   "id": "anticipated-variety",
   "metadata": {},
   "outputs": [],
   "source": [
    "class Net(torch.nn.Module):\n",
    "    def __init__(self):\n",
    "        super(Net, self).__init__()\n",
    "        self.hidden = torch.nn.Linear(1, 20)   # hidden layer\n",
    "        self.predict = torch.nn.Linear(20, 1)   # output layer\n",
    "\n",
    "    def forward(self, x):\n",
    "        x = F.relu(self.hidden(x))      # activation function for hidden layer\n",
    "        x = self.predict(x)             # linear output\n",
    "        return x"
   ]
  },
  {
   "cell_type": "code",
   "execution_count": 34,
   "id": "sublime-robinson",
   "metadata": {},
   "outputs": [],
   "source": [
    "net_SGD         = Net()\n",
    "net_Momentum    = Net()\n",
    "net_RMSprop     = Net()\n",
    "net_Adam        = Net()\n",
    "nets = [net_SGD, net_Momentum, net_RMSprop, net_Adam]"
   ]
  },
  {
   "cell_type": "code",
   "execution_count": 37,
   "id": "becoming-helena",
   "metadata": {},
   "outputs": [
    {
     "data": {
      "text/plain": [
       "Net(\n",
       "  (hidden): Linear(in_features=1, out_features=20, bias=True)\n",
       "  (predict): Linear(in_features=20, out_features=1, bias=True)\n",
       ")"
      ]
     },
     "execution_count": 37,
     "metadata": {},
     "output_type": "execute_result"
    }
   ],
   "source": [
    "net_SGD"
   ]
  },
  {
   "cell_type": "code",
   "execution_count": 38,
   "id": "announced-northwest",
   "metadata": {},
   "outputs": [
    {
     "data": {
      "text/plain": [
       "Net(\n",
       "  (hidden): Linear(in_features=1, out_features=20, bias=True)\n",
       "  (predict): Linear(in_features=20, out_features=1, bias=True)\n",
       ")"
      ]
     },
     "execution_count": 38,
     "metadata": {},
     "output_type": "execute_result"
    }
   ],
   "source": [
    "net_Momentum"
   ]
  },
  {
   "cell_type": "code",
   "execution_count": 39,
   "id": "applicable-cable",
   "metadata": {},
   "outputs": [
    {
     "data": {
      "text/plain": [
       "Net(\n",
       "  (hidden): Linear(in_features=1, out_features=20, bias=True)\n",
       "  (predict): Linear(in_features=20, out_features=1, bias=True)\n",
       ")"
      ]
     },
     "execution_count": 39,
     "metadata": {},
     "output_type": "execute_result"
    }
   ],
   "source": [
    "net_RMSprop"
   ]
  },
  {
   "cell_type": "code",
   "execution_count": 40,
   "id": "temporal-surface",
   "metadata": {},
   "outputs": [
    {
     "data": {
      "text/plain": [
       "Net(\n",
       "  (hidden): Linear(in_features=1, out_features=20, bias=True)\n",
       "  (predict): Linear(in_features=20, out_features=1, bias=True)\n",
       ")"
      ]
     },
     "execution_count": 40,
     "metadata": {},
     "output_type": "execute_result"
    }
   ],
   "source": [
    "net_Adam"
   ]
  },
  {
   "cell_type": "code",
   "execution_count": 41,
   "id": "speaking-steering",
   "metadata": {},
   "outputs": [],
   "source": [
    "opt_SGD         = torch.optim.SGD(net_SGD.parameters(), lr=LR)\n",
    "opt_Momentum    = torch.optim.SGD(net_Momentum.parameters(), \n",
    "                                  lr=LR, momentum=0.8)\n",
    "opt_RMSprop     = torch.optim.RMSprop(net_RMSprop.parameters(), \n",
    "                                      lr=LR, alpha=0.9)\n",
    "opt_Adam        = torch.optim.Adam(net_Adam.parameters(), \n",
    "                                   lr=LR, betas=(0.9, 0.99))\n",
    "optimizers = [opt_SGD, opt_Momentum, opt_RMSprop, opt_Adam]"
   ]
  },
  {
   "cell_type": "code",
   "execution_count": 42,
   "id": "institutional-buyer",
   "metadata": {},
   "outputs": [
    {
     "data": {
      "text/plain": [
       "SGD (\n",
       "Parameter Group 0\n",
       "    dampening: 0\n",
       "    lr: 0.01\n",
       "    momentum: 0\n",
       "    nesterov: False\n",
       "    weight_decay: 0\n",
       ")"
      ]
     },
     "execution_count": 42,
     "metadata": {},
     "output_type": "execute_result"
    }
   ],
   "source": [
    "opt_SGD"
   ]
  },
  {
   "cell_type": "code",
   "execution_count": 43,
   "id": "associate-radar",
   "metadata": {},
   "outputs": [
    {
     "data": {
      "text/plain": [
       "SGD (\n",
       "Parameter Group 0\n",
       "    dampening: 0\n",
       "    lr: 0.01\n",
       "    momentum: 0.8\n",
       "    nesterov: False\n",
       "    weight_decay: 0\n",
       ")"
      ]
     },
     "execution_count": 43,
     "metadata": {},
     "output_type": "execute_result"
    }
   ],
   "source": [
    "opt_Momentum"
   ]
  },
  {
   "cell_type": "code",
   "execution_count": 44,
   "id": "saving-superintendent",
   "metadata": {},
   "outputs": [
    {
     "data": {
      "text/plain": [
       "RMSprop (\n",
       "Parameter Group 0\n",
       "    alpha: 0.9\n",
       "    centered: False\n",
       "    eps: 1e-08\n",
       "    lr: 0.01\n",
       "    momentum: 0\n",
       "    weight_decay: 0\n",
       ")"
      ]
     },
     "execution_count": 44,
     "metadata": {},
     "output_type": "execute_result"
    }
   ],
   "source": [
    "opt_RMSprop"
   ]
  },
  {
   "cell_type": "code",
   "execution_count": 45,
   "id": "approximate-comedy",
   "metadata": {},
   "outputs": [
    {
     "data": {
      "text/plain": [
       "Adam (\n",
       "Parameter Group 0\n",
       "    amsgrad: False\n",
       "    betas: (0.9, 0.99)\n",
       "    eps: 1e-08\n",
       "    lr: 0.01\n",
       "    weight_decay: 0\n",
       ")"
      ]
     },
     "execution_count": 45,
     "metadata": {},
     "output_type": "execute_result"
    }
   ],
   "source": [
    "opt_Adam"
   ]
  },
  {
   "cell_type": "code",
   "execution_count": 49,
   "id": "crude-trace",
   "metadata": {},
   "outputs": [],
   "source": [
    "loss_func = torch.nn.MSELoss()\n",
    "losses_his = [[], [], [], []]   # record loss"
   ]
  },
  {
   "cell_type": "code",
   "execution_count": 50,
   "id": "brief-decision",
   "metadata": {},
   "outputs": [
    {
     "data": {
      "text/plain": [
       "MSELoss()"
      ]
     },
     "execution_count": 50,
     "metadata": {},
     "output_type": "execute_result"
    }
   ],
   "source": [
    "loss_func"
   ]
  },
  {
   "cell_type": "markdown",
   "id": "rural-attention",
   "metadata": {},
   "source": [
    "# Recipe 6-4. Performing Parallel Training Problem"
   ]
  },
  {
   "cell_type": "raw",
   "id": "given-housing",
   "metadata": {},
   "source": [
    "The optimizers are really functions that augment the tensor.\n",
    "The process of finding a best model requires parallel training of many models.\n",
    "The choice of learning rate, batch size, and optimization algorithms make models unique and different from other models.\n",
    "The process of selecting the best model requires hyperparameter optimization."
   ]
  },
  {
   "cell_type": "code",
   "execution_count": 51,
   "id": "seven-lambda",
   "metadata": {},
   "outputs": [],
   "source": [
    "from tqdm import *\n",
    "from time import *"
   ]
  },
  {
   "cell_type": "code",
   "execution_count": 58,
   "id": "drawn-posting",
   "metadata": {},
   "outputs": [
    {
     "data": {
      "text/plain": [
       "0.12"
      ]
     },
     "execution_count": 58,
     "metadata": {},
     "output_type": "execute_result"
    }
   ],
   "source": [
    "EPOCH/100"
   ]
  },
  {
   "cell_type": "code",
   "execution_count": 60,
   "id": "accepted-interaction",
   "metadata": {},
   "outputs": [
    {
     "name": "stdout",
     "output_type": "stream",
     "text": [
      "Epoch:  0\n",
      "Epoch:  1\n",
      "Epoch:  2\n",
      "Epoch:  3\n",
      "Epoch:  4\n",
      "Epoch:  5\n",
      "Epoch:  6\n",
      "Epoch:  7\n",
      "Epoch:  8\n",
      "Epoch:  9\n",
      "Epoch:  10\n",
      "Epoch:  11\n"
     ]
    },
    {
     "data": {
      "image/png": "[encoded data removed]",
      "text/plain": [
       "<Figure size 432x288 with 1 Axes>"
      ]
     },
     "metadata": {
      "needs_background": "light"
     },
     "output_type": "display_data"
    }
   ],
   "source": [
    "# training\n",
    "for epoch in range(EPOCH):\n",
    "    print('Epoch: ', epoch)\n",
    "    for step, (batch_x, batch_y) in enumerate(loader):          # for each training step\n",
    "        b_x = Variable(batch_x)\n",
    "        b_y = Variable(batch_y)\n",
    "\n",
    "        for net, opt, l_his in zip(nets, optimizers, losses_his):\n",
    "            output = net(b_x)              # get output for every net\n",
    "            loss = loss_func(output, b_y)  # compute loss for every net\n",
    "            opt.zero_grad()                # clear gradients for next train\n",
    "            loss.backward()                # backpropagation, compute gradients\n",
    "            opt.step()                     # apply gradients\n",
    "            l_his.append(loss.data)     # loss recoder\n",
    "\n",
    "labels = ['SGD', 'Momentum', 'RMSprop', 'Adam']\n",
    "for i, l_his in enumerate(losses_his):\n",
    "    plt.plot(l_his, label=labels[i])\n",
    "plt.legend(loc='best')\n",
    "plt.xlabel('Steps')\n",
    "plt.ylabel('Loss')\n",
    "plt.ylim((0, 0.2))\n",
    "plt.show()"
   ]
  },
  {
   "cell_type": "code",
   "execution_count": null,
   "id": "large-mobility",
   "metadata": {},
   "outputs": [],
   "source": []
  }
 ],
 "metadata": {
  "kernelspec": {
   "display_name": "Python 3",
   "language": "python",
   "name": "python3"
  },
  "language_info": {
   "codemirror_mode": {
    "name": "ipython",
    "version": 3
   },
   "file_extension": ".py",
   "mimetype": "text/x-python",
   "name": "python",
   "nbconvert_exporter": "python",
   "pygments_lexer": "ipython3",
   "version": "3.7.9"
  }
 },
 "nbformat": 4,
 "nbformat_minor": 5
}
