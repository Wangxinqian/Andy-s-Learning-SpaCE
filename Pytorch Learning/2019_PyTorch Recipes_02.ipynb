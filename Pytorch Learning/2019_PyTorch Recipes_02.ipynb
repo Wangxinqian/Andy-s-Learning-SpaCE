{
 "cells": [
  {
   "cell_type": "code",
   "execution_count": 3,
   "id": "greatest-locking",
   "metadata": {},
   "outputs": [],
   "source": [
    "import torch"
   ]
  },
  {
   "cell_type": "markdown",
   "id": "opened-sheet",
   "metadata": {},
   "source": [
    "### Sampling"
   ]
  },
  {
   "cell_type": "code",
   "execution_count": 4,
   "id": "handed-meditation",
   "metadata": {},
   "outputs": [
    {
     "data": {
      "text/plain": [
       "tensor([9, 6, 7, 6, 5])"
      ]
     },
     "execution_count": 4,
     "metadata": {},
     "output_type": "execute_result"
    }
   ],
   "source": [
    "d = torch.tensor([10,10,13,10,34,56,43,45,34,56,5,67.])\n",
    "torch.multinomial(d,5,replacement=True)"
   ]
  },
  {
   "cell_type": "code",
   "execution_count": 5,
   "id": "determined-investor",
   "metadata": {},
   "outputs": [
    {
     "data": {
      "text/plain": [
       "tensor([0.5884, 1.9182, 4.6726, 4.0981, 5.4906, 6.1405, 7.3714, 8.1323, 8.9270,\n",
       "        9.9870])"
      ]
     },
     "execution_count": 5,
     "metadata": {},
     "output_type": "execute_result"
    }
   ],
   "source": [
    "torch.normal(mean=torch.arange(1.,11.),std=torch.arange(1,0,-0.1))"
   ]
  },
  {
   "cell_type": "code",
   "execution_count": null,
   "id": "pursuant-bargain",
   "metadata": {},
   "outputs": [],
   "source": []
  },
  {
   "cell_type": "markdown",
   "id": "continental-cincinnati",
   "metadata": {},
   "source": [
    "https://pytorch-cn.readthedocs.io/zh/latest/notes/autograd/\n",
    "#### Auto_gard"
   ]
  },
  {
   "cell_type": "code",
   "execution_count": 40,
   "id": "optional-modeling",
   "metadata": {},
   "outputs": [],
   "source": [
    "from torch.autograd import Variable"
   ]
  },
  {
   "cell_type": "code",
   "execution_count": 41,
   "id": "proved-option",
   "metadata": {},
   "outputs": [
    {
     "data": {
      "text/plain": [
       "tensor([[1., 1.],\n",
       "        [1., 1.]], requires_grad=True)"
      ]
     },
     "execution_count": 41,
     "metadata": {},
     "output_type": "execute_result"
    }
   ],
   "source": [
    "Variable(torch.ones(2,2),requires_grad=True)"
   ]
  },
  {
   "cell_type": "code",
   "execution_count": 42,
   "id": "offensive-october",
   "metadata": {},
   "outputs": [],
   "source": [
    "a,b=12,23\n",
    "x1 = Variable(torch.randn(a,b),requires_grad=True)\n",
    "x2 = Variable(torch.randn(a,b),requires_grad=True)\n",
    "x3 = Variable(torch.randn(a,b),requires_grad=True)\n",
    "c = x1 * x2\n",
    "d = a +x3\n",
    "e = torch.sum(d)"
   ]
  },
  {
   "cell_type": "code",
   "execution_count": 43,
   "id": "fourth-netscape",
   "metadata": {},
   "outputs": [],
   "source": [
    "e.backward(retain_graph=True)"
   ]
  },
  {
   "cell_type": "code",
   "execution_count": 44,
   "id": "comparative-plaza",
   "metadata": {},
   "outputs": [
    {
     "data": {
      "text/plain": [
       "tensor(3295.8208, grad_fn=<SumBackward0>)"
      ]
     },
     "execution_count": 44,
     "metadata": {},
     "output_type": "execute_result"
    }
   ],
   "source": [
    "e"
   ]
  },
  {
   "cell_type": "markdown",
   "id": "cubic-function",
   "metadata": {},
   "source": [
    "### Backward"
   ]
  },
  {
   "cell_type": "code",
   "execution_count": 24,
   "id": "polish-bulgaria",
   "metadata": {},
   "outputs": [
    {
     "name": "stdout",
     "output_type": "stream",
     "text": [
      "tensor([2., 3., 4.], requires_grad=True)\n",
      "tensor([ 512.,  768., 1024.], grad_fn=<MulBackward0>)\n",
      "tensor([256., 256., 256.])\n"
     ]
    }
   ],
   "source": [
    "import torch\n",
    "import torch.nn as nn\n",
    "\n",
    "x = torch.tensor([2, 3, 4], dtype=torch.float, requires_grad=True)\n",
    "print(x)\n",
    "y = x * 2\n",
    "while y.norm() < 1000:\n",
    "    y = y * 2\n",
    "print(y)\n",
    "\n",
    "y.backward(torch.ones_like(y))\n",
    "print(x.grad)"
   ]
  },
  {
   "cell_type": "code",
   "execution_count": 49,
   "id": "exciting-christianity",
   "metadata": {},
   "outputs": [
    {
     "data": {
      "text/plain": [
       "'\\ntorch.ones_like(y)\\n生成与y形状相同、元素全为1的张量\\n'"
      ]
     },
     "execution_count": 49,
     "metadata": {},
     "output_type": "execute_result"
    }
   ],
   "source": [
    "'''\n",
    "torch.ones_like(y)\n",
    "生成与y形状相同、元素全为1的张量\n",
    "'''"
   ]
  },
  {
   "cell_type": "markdown",
   "id": "atmospheric-today",
   "metadata": {},
   "source": [
    "### Recipe2-3 Statistic(Ignored)"
   ]
  },
  {
   "cell_type": "markdown",
   "id": "fancy-stewart",
   "metadata": {},
   "source": [
    "### 2-4. Gradient Computation"
   ]
  },
  {
   "cell_type": "code",
   "execution_count": 54,
   "id": "endangered-pittsburgh",
   "metadata": {},
   "outputs": [
    {
     "name": "stdout",
     "output_type": "stream",
     "text": [
      "predict (before training) 4 tensor(4.)\n"
     ]
    }
   ],
   "source": [
    "import torch\n",
    "from torch.autograd import Variable\n",
    "\n",
    "x_data = [11.,22.,33.]\n",
    "y_data = [21.,14.,64.]\n",
    "w = Variable(torch.Tensor([1.]), requires_grad=True)\n",
    "\n",
    "#before training\n",
    "print(\"predict (before training)\",4,forward(4).data[0])"
   ]
  },
  {
   "cell_type": "code",
   "execution_count": 55,
   "id": "outer-saying",
   "metadata": {},
   "outputs": [],
   "source": [
    "# Using forward pass\n",
    "def forward(x):\n",
    "    return x*w\n",
    "\n",
    "# Define the Loss function\n",
    "def loss(x,y):\n",
    "    y_pred = forward(x)\n",
    "    return (y_pred-y)*(y_pred-y)"
   ]
  },
  {
   "cell_type": "code",
   "execution_count": 56,
   "id": "found-vinyl",
   "metadata": {},
   "outputs": [
    {
     "name": "stdout",
     "output_type": "stream",
     "text": [
      "\tgrad: 11.0 21.0 tensor(-220.)\n",
      "\tgrad: 22.0 14.0 tensor(2481.6001)\n",
      "\tgrad: 33.0 64.0 tensor(-51303.6484)\n",
      "\tgrad: 11.0 21.0 tensor(118461.7578)\n",
      "\tgrad: 22.0 14.0 tensor(-671630.6875)\n",
      "\tgrad: 33.0 64.0 tensor(13114108.)\n",
      "\tgrad: 11.0 21.0 tensor(-30279010.)\n",
      "\tgrad: 22.0 14.0 tensor(1.7199e+08)\n",
      "\tgrad: 33.0 64.0 tensor(-3.3589e+09)\n",
      "\tgrad: 11.0 21.0 tensor(7.7553e+09)\n",
      "\tgrad: 22.0 14.0 tensor(-4.4050e+10)\n",
      "\tgrad: 33.0 64.0 tensor(8.6030e+11)\n",
      "\tgrad: 11.0 21.0 tensor(-1.9863e+12)\n",
      "\tgrad: 22.0 14.0 tensor(1.1282e+13)\n",
      "\tgrad: 33.0 64.0 tensor(-2.2034e+14)\n",
      "\tgrad: 11.0 21.0 tensor(5.0875e+14)\n",
      "\tgrad: 22.0 14.0 tensor(-2.8897e+15)\n",
      "\tgrad: 33.0 64.0 tensor(5.6436e+16)\n",
      "\tgrad: 11.0 21.0 tensor(-1.3030e+17)\n",
      "\tgrad: 22.0 14.0 tensor(7.4013e+17)\n",
      "\tgrad: 33.0 64.0 tensor(-1.4455e+19)\n",
      "\tgrad: 11.0 21.0 tensor(3.3374e+19)\n",
      "\tgrad: 22.0 14.0 tensor(-1.8957e+20)\n",
      "\tgrad: 33.0 64.0 tensor(3.7022e+21)\n",
      "\tgrad: 11.0 21.0 tensor(-8.5480e+21)\n",
      "\tgrad: 22.0 14.0 tensor(4.8553e+22)\n",
      "\tgrad: 33.0 64.0 tensor(-9.4824e+23)\n",
      "\tgrad: 11.0 21.0 tensor(2.1894e+24)\n",
      "\tgrad: 22.0 14.0 tensor(-1.2436e+25)\n",
      "\tgrad: 33.0 64.0 tensor(2.4287e+26)\n",
      "progress: 9 tensor(inf)\n"
     ]
    }
   ],
   "source": [
    "# Run the Training Loop\n",
    "for epoch in range(10):\n",
    "    for x_val,y_val in zip(x_data,y_data):\n",
    "        l = loss(x_val,y_val)\n",
    "        l.backward()\n",
    "        print(\"\\tgrad:\", x_val, y_val, w.grad.data[0])\n",
    "        w.data = w.data - 0.01 * w.grad.data\n",
    "        \n",
    "        #Manually set the gradients to zero after updating weights\n",
    "        w.grad.data.zero_()\n",
    "        \n",
    "print(\"progress:\", epoch,l.data[0])"
   ]
  },
  {
   "cell_type": "code",
   "execution_count": 60,
   "id": "thrown-visiting",
   "metadata": {},
   "outputs": [
    {
     "data": {
      "text/plain": [
       "tensor([-2.3172e+24], requires_grad=True)"
      ]
     },
     "execution_count": 60,
     "metadata": {},
     "output_type": "execute_result"
    }
   ],
   "source": [
    "w"
   ]
  },
  {
   "cell_type": "code",
   "execution_count": 59,
   "id": "exotic-membership",
   "metadata": {},
   "outputs": [
    {
     "name": "stdout",
     "output_type": "stream",
     "text": [
      "predict(after training) 4 tensor(-9.2687e+24)\n"
     ]
    }
   ],
   "source": [
    "print(\"predict(after training)\",4,forward(4).data[0])"
   ]
  },
  {
   "cell_type": "code",
   "execution_count": null,
   "id": "unnecessary-wholesale",
   "metadata": {},
   "outputs": [],
   "source": []
  },
  {
   "cell_type": "code",
   "execution_count": 77,
   "id": "polished-enemy",
   "metadata": {},
   "outputs": [
    {
     "name": "stdout",
     "output_type": "stream",
     "text": [
      "tensor([12.], requires_grad=True)\n"
     ]
    }
   ],
   "source": [
    "from torch import FloatTensor\n",
    "from torch.autograd import Variable\n",
    "\n",
    "a = Variable(FloatTensor([5]))\n",
    "weights = [Variable(FloatTensor([i]), requires_grad=True) for i in (12, 53, 91, 73)]\n",
    "w1, w2, w3, w4 = weights\n",
    "print(w1)\n",
    "b = w1 * a\n",
    "c = w2 * a\n",
    "d = w3 * b + w4 * c\n",
    "Loss = (10 - d)\n",
    "Loss.backward()"
   ]
  },
  {
   "cell_type": "code",
   "execution_count": 78,
   "id": "sustainable-daily",
   "metadata": {},
   "outputs": [
    {
     "name": "stdout",
     "output_type": "stream",
     "text": [
      "tensor([-455.]) ??\n",
      "Gradient of w1 w.r.t to Loss: -455.0\n",
      "tensor([-365.]) ??\n",
      "Gradient of w2 w.r.t to Loss: -365.0\n",
      "tensor([-60.]) ??\n",
      "Gradient of w3 w.r.t to Loss: -60.0\n",
      "tensor([-265.]) ??\n",
      "Gradient of w4 w.r.t to Loss: -265.0\n"
     ]
    }
   ],
   "source": [
    "for index, weight in enumerate(weights, start=1):\n",
    "    print(weight.grad.data,'??')\n",
    "    gradient, *_ = weight.grad.data\n",
    "    print(f\"Gradient of w{index} w.r.t to Loss: {gradient}\")"
   ]
  },
  {
   "cell_type": "markdown",
   "id": "civic-curve",
   "metadata": {},
   "source": [
    "### 2-5. Tensor Operations"
   ]
  },
  {
   "cell_type": "markdown",
   "id": "defined-royal",
   "metadata": {},
   "source": [
    "### torch.mul(a, b)是矩阵a和b对应位相乘，a和b的维度必须相等，比如a的维度是(1, 2)，b的维度是(1, 2)，返回的仍是(1, 2)的矩阵\n",
    "### torch.mm(a, b)是矩阵a和b矩阵相乘，比如a的维度是(1, 2)，b的维度是(2, 3)，返回的就是(1, 3)的矩阵"
   ]
  },
  {
   "cell_type": "code",
   "execution_count": 79,
   "id": "literary-essay",
   "metadata": {},
   "outputs": [
    {
     "name": "stdout",
     "output_type": "stream",
     "text": [
      "torch.Size([4, 4])\n"
     ]
    }
   ],
   "source": [
    "x = Variable(torch.Tensor(4, 4).uniform_(-4, 5))\n",
    "y = Variable(torch.Tensor(4, 4).uniform_(-3, 2))\n",
    "# matrix multiplication\n",
    "#torch.mul(a, b)是矩阵a和b对应位相乘，a和b的维度必须相等，比如a的维度是(1, 2)，b的维度是(1, 2)，返回的仍是(1, 2)的矩阵\n",
    "z = torch.mm(x, y)\n",
    "print(z.size())"
   ]
  },
  {
   "cell_type": "code",
   "execution_count": 85,
   "id": "egyptian-italian",
   "metadata": {},
   "outputs": [
    {
     "name": "stdout",
     "output_type": "stream",
     "text": [
      "tensor([[-2.7035,  4.6717, -0.4064,  2.0015],\n",
      "        [ 1.2070,  1.3633, -0.2969, -3.1569],\n",
      "        [ 3.4389, -0.5569, -4.8873, -1.8243],\n",
      "        [-4.0354, -3.9926, -3.3342, -3.6767]])\n",
      "Requires Gradient : False \n",
      "Volatile : False \n",
      "Gradient : None \n",
      "tensor([[-2.7035,  4.6717, -0.4064,  2.0015],\n",
      "        [ 1.2070,  1.3633, -0.2969, -3.1569],\n",
      "        [ 3.4389, -0.5569, -4.8873, -1.8243],\n",
      "        [-4.0354, -3.9926, -3.3342, -3.6767]])\n"
     ]
    },
    {
     "name": "stderr",
     "output_type": "stream",
     "text": [
      "c:\\users\\andy\\appdata\\local\\programs\\python\\python37\\lib\\site-packages\\ipykernel_launcher.py:5: UserWarning: volatile was removed (Variable.volatile is always False)\n",
      "  \"\"\"\n"
     ]
    }
   ],
   "source": [
    "z = Variable(torch.Tensor(4, 4).uniform_(-5, 5))\n",
    "print(z)\n",
    "\n",
    "print('Requires Gradient : %s ' % (z.requires_grad))\n",
    "print('Volatile : %s ' % (z.volatile))\n",
    "print('Gradient : %s ' % (z.grad))\n",
    "print(z.data)"
   ]
  },
  {
   "cell_type": "markdown",
   "id": "neither-subscription",
   "metadata": {},
   "source": [
    "### Recipe 2-6. Tensor Operations"
   ]
  },
  {
   "cell_type": "code",
   "execution_count": 86,
   "id": "forty-karen",
   "metadata": {},
   "outputs": [
    {
     "name": "stdout",
     "output_type": "stream",
     "text": [
      "tensor([[0.5989, 0.8183, 0.6143, 0.4144],\n",
      "        [0.4284, 0.5015, 0.9921, 0.4548],\n",
      "        [0.8947, 0.2699, 0.9941, 0.6090],\n",
      "        [0.0529, 0.2766, 0.0336, 0.1986]])\n",
      "tensor([[0.5808, 0.3960, 0.7817, 0.9292],\n",
      "        [0.4476, 0.1892, 0.4560, 0.5092],\n",
      "        [0.6518, 0.9496, 0.7132, 0.2230],\n",
      "        [0.0108, 0.7713, 0.5618, 0.9201],\n",
      "        [0.6954, 0.4923, 0.6194, 0.6219]])\n",
      "tensor([0.6794, 0.9086, 0.6197, 0.3217])\n"
     ]
    }
   ],
   "source": [
    "x.data\n",
    "\n",
    "#tensor operations\n",
    "mat1 = torch.FloatTensor(4,4).uniform_(0,1)\n",
    "print(mat1)\n",
    "\n",
    "mat2 = torch.FloatTensor(5,4).uniform_(0,1)\n",
    "print(mat2)\n",
    "\n",
    "vec1 = torch.FloatTensor(4).uniform_(0,1)\n",
    "print(vec1)"
   ]
  },
  {
   "cell_type": "code",
   "execution_count": 89,
   "id": "diagnostic-humor",
   "metadata": {},
   "outputs": [
    {
     "data": {
      "text/plain": [
       "tensor([[1.2784, 1.7269, 1.2340, 0.7361],\n",
       "        [1.1078, 1.4101, 1.6118, 0.7765],\n",
       "        [1.5741, 1.1785, 1.6138, 0.9307],\n",
       "        [0.7323, 1.1852, 0.6534, 0.5202]])"
      ]
     },
     "execution_count": 89,
     "metadata": {},
     "output_type": "execute_result"
    }
   ],
   "source": [
    "# scalar addition\n",
    "mat1 + 10.5\n",
    "\n",
    "# scalar subtraction\n",
    "mat2 - 0.20\n",
    "\n",
    "# vector and matrix addition\n",
    "mat1 + vec1"
   ]
  },
  {
   "cell_type": "code",
   "execution_count": 97,
   "id": "postal-exhaust",
   "metadata": {},
   "outputs": [
    {
     "name": "stdout",
     "output_type": "stream",
     "text": [
      "tensor([[1.2659, 1.1419, 1.5579, 1.0813],\n",
      "        [0.7840, 0.7251, 0.9331, 0.6504],\n",
      "        [1.4470, 1.2638, 2.0589, 1.1806],\n",
      "        [0.8882, 0.8018, 1.3613, 0.8801],\n",
      "        [1.2143, 1.1551, 1.5521, 1.0127]])\n"
     ]
    },
    {
     "ename": "RuntimeError",
     "evalue": "mat1 and mat2 shapes cannot be multiplied (4x4 and 5x4)",
     "output_type": "error",
     "traceback": [
      "\u001b[1;31m---------------------------------------------------------------------------\u001b[0m",
      "\u001b[1;31mRuntimeError\u001b[0m                              Traceback (most recent call last)",
      "\u001b[1;32m<ipython-input-97-d9ac6c6698fa>\u001b[0m in \u001b[0;36m<module>\u001b[1;34m\u001b[0m\n\u001b[0;32m      1\u001b[0m \u001b[0mprint\u001b[0m\u001b[1;33m(\u001b[0m\u001b[0mtorch\u001b[0m\u001b[1;33m.\u001b[0m\u001b[0mmm\u001b[0m\u001b[1;33m(\u001b[0m\u001b[0mmat2\u001b[0m\u001b[1;33m,\u001b[0m \u001b[0mmat1\u001b[0m\u001b[1;33m)\u001b[0m\u001b[1;33m)\u001b[0m\u001b[1;33m\u001b[0m\u001b[1;33m\u001b[0m\u001b[0m\n\u001b[1;32m----> 2\u001b[1;33m \u001b[0mprint\u001b[0m\u001b[1;33m(\u001b[0m\u001b[0mtorch\u001b[0m\u001b[1;33m.\u001b[0m\u001b[0mmm\u001b[0m\u001b[1;33m(\u001b[0m\u001b[0mmat1\u001b[0m\u001b[1;33m,\u001b[0m \u001b[0mmat2\u001b[0m\u001b[1;33m)\u001b[0m\u001b[1;33m)\u001b[0m\u001b[1;33m\u001b[0m\u001b[1;33m\u001b[0m\u001b[0m\n\u001b[0m",
      "\u001b[1;31mRuntimeError\u001b[0m: mat1 and mat2 shapes cannot be multiplied (4x4 and 5x4)"
     ]
    }
   ],
   "source": [
    "print(torch.mm(mat2, mat1))\n",
    "print(torch.mm(mat1, mat2))"
   ]
  },
  {
   "cell_type": "code",
   "execution_count": 96,
   "id": "driving-contamination",
   "metadata": {},
   "outputs": [
    {
     "ename": "RuntimeError",
     "evalue": "mat1 and mat2 shapes cannot be multiplied (4x4 and 5x4)",
     "output_type": "error",
     "traceback": [
      "\u001b[1;31m---------------------------------------------------------------------------\u001b[0m",
      "\u001b[1;31mRuntimeError\u001b[0m                              Traceback (most recent call last)",
      "\u001b[1;32m<ipython-input-96-6bc625d1e117>\u001b[0m in \u001b[0;36m<module>\u001b[1;34m\u001b[0m\n\u001b[1;32m----> 1\u001b[1;33m \u001b[0mtorch\u001b[0m\u001b[1;33m.\u001b[0m\u001b[0mmm\u001b[0m\u001b[1;33m(\u001b[0m\u001b[0mmat1\u001b[0m\u001b[1;33m,\u001b[0m \u001b[0mmat2\u001b[0m\u001b[1;33m)\u001b[0m\u001b[1;33m\u001b[0m\u001b[1;33m\u001b[0m\u001b[0m\n\u001b[0m",
      "\u001b[1;31mRuntimeError\u001b[0m: mat1 and mat2 shapes cannot be multiplied (4x4 and 5x4)"
     ]
    }
   ],
   "source": [
    "torch.mm(mat1, mat2)"
   ]
  },
  {
   "cell_type": "markdown",
   "id": "assumed-travel",
   "metadata": {},
   "source": [
    "### Recipe 2-7. Distributions"
   ]
  },
  {
   "cell_type": "code",
   "execution_count": 103,
   "id": "forward-iceland",
   "metadata": {},
   "outputs": [
    {
     "data": {
      "text/plain": [
       "Bernoulli(probs: torch.Size([3]))"
      ]
     },
     "execution_count": 103,
     "metadata": {},
     "output_type": "execute_result"
    }
   ],
   "source": [
    "# about Bernoulli distribution\n",
    "from torch.distributions.bernoulli import Bernoulli\n",
    "\n",
    "dist = Bernoulli(torch.tensor([0.3,0.6,0.9]))\n",
    "dist"
   ]
  },
  {
   "cell_type": "code",
   "execution_count": 105,
   "id": "regulated-wiring",
   "metadata": {},
   "outputs": [
    {
     "data": {
      "text/plain": [
       "tensor([1., 0., 0.])"
      ]
     },
     "execution_count": 105,
     "metadata": {},
     "output_type": "execute_result"
    }
   ],
   "source": [
    "dist.sample() #sample is binary, it takes 1 with p and 0 with 1-p"
   ]
  },
  {
   "cell_type": "code",
   "execution_count": 106,
   "id": "sapphire-mumbai",
   "metadata": {},
   "outputs": [],
   "source": [
    "#Creates a Bernoulli distribution parameterized by probs \n",
    "#Samples are binary (0 or 1). They take the value 1 with probability p \n",
    "#and 0 with probability 1 - p."
   ]
  },
  {
   "cell_type": "code",
   "execution_count": null,
   "id": "desperate-cancer",
   "metadata": {},
   "outputs": [],
   "source": []
  }
 ],
 "metadata": {
  "kernelspec": {
   "display_name": "Python 3",
   "language": "python",
   "name": "python3"
  },
  "language_info": {
   "codemirror_mode": {
    "name": "ipython",
    "version": 3
   },
   "file_extension": ".py",
   "mimetype": "text/x-python",
   "name": "python",
   "nbconvert_exporter": "python",
   "pygments_lexer": "ipython3",
   "version": "3.7.9"
  }
 },
 "nbformat": 4,
 "nbformat_minor": 5
}
