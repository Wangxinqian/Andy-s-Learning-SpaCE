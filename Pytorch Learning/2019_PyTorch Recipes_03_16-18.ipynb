{
 "cells": [
  {
   "cell_type": "code",
   "execution_count": 5,
   "id": "apparent-lease",
   "metadata": {},
   "outputs": [],
   "source": [
    "from __future__ import print_function"
   ]
  },
  {
   "cell_type": "markdown",
   "id": "correct-sending",
   "metadata": {},
   "source": [
    "# Recipe 3-16. Initializing Weights in the Dropout Rate"
   ]
  },
  {
   "cell_type": "code",
   "execution_count": 1,
   "id": "outside-commitment",
   "metadata": {},
   "outputs": [],
   "source": [
    "#Initialize a random tensor"
   ]
  },
  {
   "cell_type": "code",
   "execution_count": 6,
   "id": "conservative-illness",
   "metadata": {},
   "outputs": [],
   "source": [
    "import numpy as np\n",
    "import torch"
   ]
  },
  {
   "cell_type": "code",
   "execution_count": 7,
   "id": "welcome-browse",
   "metadata": {},
   "outputs": [
    {
     "data": {
      "text/plain": [
       "tensor([[0., 0., 0.],\n",
       "        [0., 0., 0.],\n",
       "        [0., 0., 0.],\n",
       "        [0., 0., 0.],\n",
       "        [0., 0., 0.]])"
      ]
     },
     "execution_count": 7,
     "metadata": {},
     "output_type": "execute_result"
    }
   ],
   "source": [
    "torch.Tensor(5, 3)"
   ]
  },
  {
   "cell_type": "code",
   "execution_count": 8,
   "id": "planned-thompson",
   "metadata": {},
   "outputs": [],
   "source": [
    "#From a uniform distribution"
   ]
  },
  {
   "cell_type": "code",
   "execution_count": 10,
   "id": "spread-restaurant",
   "metadata": {},
   "outputs": [
    {
     "data": {
      "text/plain": [
       "<torch._C.Generator at 0x244e7c2aeb0>"
      ]
     },
     "execution_count": 10,
     "metadata": {},
     "output_type": "execute_result"
    }
   ],
   "source": [
    "torch.manual_seed(1)"
   ]
  },
  {
   "cell_type": "code",
   "execution_count": 11,
   "id": "unlikely-migration",
   "metadata": {},
   "outputs": [
    {
     "data": {
      "text/plain": [
       "tensor([[ 0.5153, -0.4414, -0.1939],\n",
       "        [ 0.4694, -0.9414,  0.5997],\n",
       "        [-0.2057,  0.5087,  0.1390],\n",
       "        [-0.1224,  0.2774,  0.0493],\n",
       "        [ 0.3652, -0.3897, -0.0729]])"
      ]
     },
     "execution_count": 11,
     "metadata": {},
     "output_type": "execute_result"
    }
   ],
   "source": [
    "torch.Tensor(5, 3).uniform_(-1, 1)"
   ]
  },
  {
   "cell_type": "code",
   "execution_count": 12,
   "id": "computational-bearing",
   "metadata": {},
   "outputs": [
    {
     "name": "stdout",
     "output_type": "stream",
     "text": [
      "torch.Size([5, 3])\n"
     ]
    }
   ],
   "source": [
    "#getting the shape of the tensor\n",
    "x = torch.Tensor(5, 3).uniform_(-1, 1)\n",
    "print(x.size())"
   ]
  },
  {
   "cell_type": "code",
   "execution_count": 13,
   "id": "empirical-quarter",
   "metadata": {},
   "outputs": [],
   "source": [
    "#Creation from lists & numpy"
   ]
  },
  {
   "cell_type": "code",
   "execution_count": 14,
   "id": "sized-pulse",
   "metadata": {},
   "outputs": [
    {
     "name": "stdout",
     "output_type": "stream",
     "text": [
      "torch.LongTensor\n",
      "int64\n"
     ]
    }
   ],
   "source": [
    "z = torch.LongTensor([[1, 3], [2, 9]])\n",
    "print(z.type())\n",
    "# Cast to numpy ndarray\n",
    "print(z.numpy().dtype)"
   ]
  },
  {
   "cell_type": "code",
   "execution_count": 15,
   "id": "simplified-central",
   "metadata": {},
   "outputs": [
    {
     "name": "stdout",
     "output_type": "stream",
     "text": [
      "torch.DoubleTensor\n",
      "torch.FloatTensor\n"
     ]
    }
   ],
   "source": [
    "# Data type inferred from numpy\n",
    "print(torch.from_numpy(np.random.rand(5, 3)).type())\n",
    "print(torch.from_numpy(np.random.rand(5, 3).astype(np.float32)).type())"
   ]
  },
  {
   "cell_type": "markdown",
   "id": "correct-deployment",
   "metadata": {},
   "source": [
    "# Recipe 3-17. Adding Math Operations Problem"
   ]
  },
  {
   "cell_type": "code",
   "execution_count": 16,
   "id": "presidential-beach",
   "metadata": {},
   "outputs": [],
   "source": [
    "#Simple mathematical operations"
   ]
  },
  {
   "cell_type": "code",
   "execution_count": 17,
   "id": "speaking-graphics",
   "metadata": {},
   "outputs": [
    {
     "name": "stdout",
     "output_type": "stream",
     "text": [
      "tensor([[-9.5237e-02,  1.3944e-01, -1.5719e-03],\n",
      "        [ 9.8974e-01, -1.6816e-01,  8.2311e-01],\n",
      "        [-1.2762e+00,  6.6872e-04, -5.9525e-01],\n",
      "        [ 4.3277e-01,  1.6542e-02,  3.0079e-01],\n",
      "        [ 9.8996e-01,  1.7735e-01, -5.8985e-01]])\n"
     ]
    }
   ],
   "source": [
    "y = x * torch.randn(5, 3)\n",
    "print(y)"
   ]
  },
  {
   "cell_type": "code",
   "execution_count": 18,
   "id": "greatest-passport",
   "metadata": {},
   "outputs": [
    {
     "name": "stdout",
     "output_type": "stream",
     "text": [
      "tensor([[-2.2189e-01,  9.5583e-02, -5.4559e-03],\n",
      "        [ 3.8307e-01,  2.5760e-01, -3.3489e-01],\n",
      "        [-2.7237e-01, -3.9267e-01, -4.2511e-01],\n",
      "        [-1.7613e+00,  7.7451e-02,  1.5184e+01],\n",
      "        [ 5.8684e-01, -1.0187e+00,  1.7620e+00]])\n"
     ]
    }
   ],
   "source": [
    "y = x / torch.sqrt(torch.randn(5, 3) ** 2)\n",
    "print(y)"
   ]
  },
  {
   "cell_type": "code",
   "execution_count": 19,
   "id": "greatest-sacramento",
   "metadata": {},
   "outputs": [],
   "source": [
    "#Broadcasting\n"
   ]
  },
  {
   "cell_type": "code",
   "execution_count": 20,
   "id": "quantitative-coordination",
   "metadata": {},
   "outputs": [
    {
     "name": "stdout",
     "output_type": "stream",
     "text": [
      "torch.Size([5, 3])\n",
      "tensor([[-0.4940, -0.2590, -0.4079],\n",
      "        [ 2.6326,  2.0696,  1.3860],\n",
      "        [-1.0185, -0.5821, -0.8459],\n",
      "        [ 0.5357,  0.9040,  1.4523],\n",
      "        [ 0.1006, -1.4205,  0.1770]])\n"
     ]
    }
   ],
   "source": [
    "\n",
    "print (x.size())\n",
    "y = x + torch.randn(5, 1)\n",
    "print(y)"
   ]
  },
  {
   "cell_type": "code",
   "execution_count": 21,
   "id": "single-swing",
   "metadata": {},
   "outputs": [],
   "source": [
    "#Reshape"
   ]
  },
  {
   "cell_type": "code",
   "execution_count": 22,
   "id": "similar-ultimate",
   "metadata": {},
   "outputs": [
    {
     "name": "stdout",
     "output_type": "stream",
     "text": [
      "torch.Size([5, 10, 15])\n",
      "torch.Size([50, 15])\n",
      "torch.Size([50, 1, 15])\n",
      "torch.Size([50, 15])\n",
      "\n",
      "torch.Size([10, 5, 15])\n",
      "torch.Size([5, 15, 10])\n",
      "torch.Size([10, 15, 5])\n",
      "torch.Size([10, 15, 5])\n"
     ]
    }
   ],
   "source": [
    "y = torch.randn(5, 10, 15)\n",
    "print(y.size())\n",
    "print(y.view(-1, 15).size())  # Same as doing y.view(50, 15)\n",
    "print(y.view(-1, 15).unsqueeze(1).size()) # Adds a dimension at index 1.\n",
    "print(y.view(-1, 15).unsqueeze(1).squeeze().size())\n",
    "print()\n",
    "print(y.transpose(0, 1).size())\n",
    "print(y.transpose(1, 2).size())\n",
    "print(y.transpose(0, 1).transpose(1, 2).size())\n",
    "print(y.permute(1, 2, 0).size())"
   ]
  },
  {
   "cell_type": "code",
   "execution_count": 23,
   "id": "opposed-edition",
   "metadata": {},
   "outputs": [],
   "source": [
    "#Repeat"
   ]
  },
  {
   "cell_type": "code",
   "execution_count": 24,
   "id": "institutional-blend",
   "metadata": {},
   "outputs": [
    {
     "name": "stdout",
     "output_type": "stream",
     "text": [
      "torch.Size([50, 100, 15])\n",
      "torch.Size([50, 100, 15])\n"
     ]
    }
   ],
   "source": [
    "print(y.view(-1, 15).unsqueeze(1).expand(50, 100, 15).size())\n",
    "print(y.view(-1, 15).unsqueeze(1).expand_as(torch.randn(50, 100, 15)).size())"
   ]
  },
  {
   "cell_type": "code",
   "execution_count": 25,
   "id": "static-health",
   "metadata": {},
   "outputs": [],
   "source": [
    "#Concatenate tensors"
   ]
  },
  {
   "cell_type": "code",
   "execution_count": 26,
   "id": "prime-separate",
   "metadata": {},
   "outputs": [
    {
     "name": "stdout",
     "output_type": "stream",
     "text": [
      "torch.Size([5, 10, 30])\n",
      "torch.Size([2, 5, 10, 15])\n"
     ]
    }
   ],
   "source": [
    "# 2 is the dimension over which the tensors are concatenated\n",
    "print(torch.cat([y, y], 2).size())\n",
    "# stack concatenates the sequence of tensors along a new dimension.\n",
    "print(torch.stack([y, y], 0).size())"
   ]
  },
  {
   "cell_type": "code",
   "execution_count": 27,
   "id": "educational-protection",
   "metadata": {},
   "outputs": [],
   "source": [
    "#Advanced Indexing"
   ]
  },
  {
   "cell_type": "code",
   "execution_count": 28,
   "id": "stupid-federation",
   "metadata": {},
   "outputs": [
    {
     "name": "stdout",
     "output_type": "stream",
     "text": [
      "torch.Size([4, 3, 4])\n",
      "torch.Size([2, 3, 4])\n"
     ]
    }
   ],
   "source": [
    "y = torch.randn(2, 3, 4)\n",
    "print(y[[1, 0, 1, 1]].size())\n",
    "\n",
    "# PyTorch doesn't support negative strides yet so ::-1 does not work.\n",
    "rev_idx = torch.arange(1, -1, -1).long()\n",
    "print(y[rev_idx].size())"
   ]
  },
  {
   "cell_type": "code",
   "execution_count": 29,
   "id": "domestic-format",
   "metadata": {},
   "outputs": [],
   "source": [
    "#Convolution, BatchNorm & Pooling Layers"
   ]
  },
  {
   "cell_type": "code",
   "execution_count": 33,
   "id": "certified-scientist",
   "metadata": {},
   "outputs": [
    {
     "name": "stdout",
     "output_type": "stream",
     "text": [
      "Conv output size :  torch.Size([10, 32, 28, 28])\n",
      "Pool output size :  torch.Size([10, 32, 14, 14])\n"
     ]
    }
   ],
   "source": [
    "from torch.autograd import Variable\n",
    "import torch.nn as nn\n",
    "\n",
    "x = Variable(torch.randn(10, 3, 28, 28))\n",
    "\n",
    "conv = nn.Conv2d(in_channels=3, out_channels=32, kernel_size=(3, 3), stride=1, \n",
    "                 padding=1, bias=True)\n",
    "bn = nn.BatchNorm2d(num_features=32)\n",
    "pool = nn.MaxPool2d(kernel_size=(2, 2), stride=2)\n",
    "\n",
    "output_conv = bn(conv(x))\n",
    "outpout_pool = pool(conv(x))\n",
    "\n",
    "print('Conv output size : ', output_conv.size())\n",
    "print('Pool output size : ', outpout_pool.size())"
   ]
  },
  {
   "cell_type": "markdown",
   "id": "occupied-escape",
   "metadata": {},
   "source": [
    "# Recipe 3-18. Embedding Layers in RNN Problem"
   ]
  },
  {
   "cell_type": "code",
   "execution_count": 34,
   "id": "everyday-armor",
   "metadata": {},
   "outputs": [],
   "source": [
    "#Recurrent, Embedding & Dropout Layers"
   ]
  },
  {
   "cell_type": "code",
   "execution_count": 35,
   "id": "several-spiritual",
   "metadata": {},
   "outputs": [
    {
     "name": "stdout",
     "output_type": "stream",
     "text": [
      "Embedding size :  torch.Size([5, 3, 20])\n",
      "GRU hidden states size :  torch.Size([5, 3, 100])\n",
      "GRU last hidden state size :  torch.Size([4, 5, 50])\n"
     ]
    }
   ],
   "source": [
    "inputs = [[1, 2, 3], [1, 0, 4], [1, 2, 4], [1, 4, 0], [1, 3, 3]]\n",
    "x = Variable(torch.LongTensor(inputs))\n",
    "\n",
    "embedding = nn.Embedding(num_embeddings=5, embedding_dim=20, padding_idx=1)\n",
    "drop = nn.Dropout(p=0.5)\n",
    "gru = nn.GRU(input_size=20, hidden_size=50, num_layers=2, batch_first=True, \n",
    "             bidirectional=True, dropout=0.3)\n",
    "\n",
    "emb = drop(embedding(x))\n",
    "gru_h, gru_h_t = gru(emb)\n",
    "\n",
    "print('Embedding size : ', emb.size())\n",
    "print('GRU hidden states size : ', gru_h.size())\n",
    "print('GRU last hidden state size : ', gru_h_t.size())"
   ]
  },
  {
   "cell_type": "code",
   "execution_count": 36,
   "id": "built-frank",
   "metadata": {},
   "outputs": [],
   "source": [
    "#The functional API provides users a way to use these classes in a functional way."
   ]
  },
  {
   "cell_type": "code",
   "execution_count": 37,
   "id": "unknown-provision",
   "metadata": {},
   "outputs": [
    {
     "ename": "ImportError",
     "evalue": "cannot import name 'F' from 'torch.nn.functional' (c:\\users\\andy\\appdata\\local\\programs\\python\\python37\\lib\\site-packages\\torch\\nn\\functional.py)",
     "output_type": "error",
     "traceback": [
      "\u001b[1;31m---------------------------------------------------------------------------\u001b[0m",
      "\u001b[1;31mImportError\u001b[0m                               Traceback (most recent call last)",
      "\u001b[1;32m<ipython-input-37-817f529d4f08>\u001b[0m in \u001b[0;36m<module>\u001b[1;34m\u001b[0m\n\u001b[1;32m----> 1\u001b[1;33m \u001b[1;32mfrom\u001b[0m \u001b[0mtorch\u001b[0m\u001b[1;33m.\u001b[0m\u001b[0mnn\u001b[0m\u001b[1;33m.\u001b[0m\u001b[0mfunctional\u001b[0m \u001b[1;32mimport\u001b[0m \u001b[0mF\u001b[0m\u001b[1;33m\u001b[0m\u001b[1;33m\u001b[0m\u001b[0m\n\u001b[0m\u001b[0;32m      2\u001b[0m \u001b[0mx\u001b[0m \u001b[1;33m=\u001b[0m \u001b[0mVariable\u001b[0m\u001b[1;33m(\u001b[0m\u001b[0mtorch\u001b[0m\u001b[1;33m.\u001b[0m\u001b[0mrandn\u001b[0m\u001b[1;33m(\u001b[0m\u001b[1;36m10\u001b[0m\u001b[1;33m,\u001b[0m \u001b[1;36m3\u001b[0m\u001b[1;33m,\u001b[0m \u001b[1;36m28\u001b[0m\u001b[1;33m,\u001b[0m \u001b[1;36m28\u001b[0m\u001b[1;33m)\u001b[0m\u001b[1;33m)\u001b[0m\u001b[1;33m\u001b[0m\u001b[1;33m\u001b[0m\u001b[0m\n\u001b[0;32m      3\u001b[0m \u001b[0mfilters\u001b[0m \u001b[1;33m=\u001b[0m \u001b[0mVariable\u001b[0m\u001b[1;33m(\u001b[0m\u001b[0mtorch\u001b[0m\u001b[1;33m.\u001b[0m\u001b[0mrandn\u001b[0m\u001b[1;33m(\u001b[0m\u001b[1;36m32\u001b[0m\u001b[1;33m,\u001b[0m \u001b[1;36m3\u001b[0m\u001b[1;33m,\u001b[0m \u001b[1;36m3\u001b[0m\u001b[1;33m,\u001b[0m \u001b[1;36m3\u001b[0m\u001b[1;33m)\u001b[0m\u001b[1;33m)\u001b[0m\u001b[1;33m\u001b[0m\u001b[1;33m\u001b[0m\u001b[0m\n\u001b[0;32m      4\u001b[0m conv_out = F.relu(F.dropout(F.conv2d(input=x, weight=filters, padding=1), \n\u001b[0;32m      5\u001b[0m                             p=0.5, training=True))\n",
      "\u001b[1;31mImportError\u001b[0m: cannot import name 'F' from 'torch.nn.functional' (c:\\users\\andy\\appdata\\local\\programs\\python\\python37\\lib\\site-packages\\torch\\nn\\functional.py)"
     ]
    }
   ],
   "source": [
    "from torch.nn.functional import F\n",
    "x = Variable(torch.randn(10, 3, 28, 28))\n",
    "filters = Variable(torch.randn(32, 3, 3, 3))\n",
    "conv_out = F.relu(F.dropout(F.conv2d(input=x, weight=filters, padding=1), \n",
    "                            p=0.5, training=True))\n",
    "\n",
    "print('Conv output size : ', conv_out.size())"
   ]
  },
  {
   "cell_type": "code",
   "execution_count": null,
   "id": "nervous-casino",
   "metadata": {},
   "outputs": [],
   "source": []
  }
 ],
 "metadata": {
  "kernelspec": {
   "display_name": "Python 3",
   "language": "python",
   "name": "python3"
  },
  "language_info": {
   "codemirror_mode": {
    "name": "ipython",
    "version": 3
   },
   "file_extension": ".py",
   "mimetype": "text/x-python",
   "name": "python",
   "nbconvert_exporter": "python",
   "pygments_lexer": "ipython3",
   "version": "3.7.9"
  }
 },
 "nbformat": 4,
 "nbformat_minor": 5
}
