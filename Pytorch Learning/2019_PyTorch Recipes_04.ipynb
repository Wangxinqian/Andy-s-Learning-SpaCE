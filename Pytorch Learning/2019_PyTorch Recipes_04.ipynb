{
 "cells": [
  {
   "cell_type": "markdown",
   "id": "agreed-artist",
   "metadata": {},
   "source": [
    "# Recipe 4-1. Working with Activation Functions"
   ]
  },
  {
   "cell_type": "code",
   "execution_count": 2,
   "id": "sublime-tobacco",
   "metadata": {},
   "outputs": [],
   "source": [
    "from __future__ import print_function\n",
    "import numpy as np\n",
    "import torch\n",
    "import torch.nn as nn\n",
    "import torch.optim as optim\n",
    "import torch.nn.init as init\n",
    "import torch.nn.functional as F\n",
    "from torch.autograd import Variable"
   ]
  },
  {
   "cell_type": "code",
   "execution_count": 4,
   "id": "square-boulder",
   "metadata": {},
   "outputs": [],
   "source": [
    "#torch.nn: - Neural networks can be constructed using the torch.nn package."
   ]
  },
  {
   "cell_type": "code",
   "execution_count": 5,
   "id": "round-review",
   "metadata": {},
   "outputs": [
    {
     "name": "stdout",
     "output_type": "stream",
     "text": [
      "Output size :  torch.Size([100, 5])\n",
      "Output size :  torch.Size([100, 5])\n"
     ]
    }
   ],
   "source": [
    "x = Variable(torch.randn(100, 10))\n",
    "y = Variable(torch.randn(100, 30))\n",
    "\n",
    "linear = nn.Linear(in_features=10, out_features=5, bias=True)\n",
    "output_linear = linear(x)\n",
    "print('Output size : ', output_linear.size())\n",
    "\n",
    "bilinear = nn.Bilinear(in1_features=10, in2_features=30, out_features=5, bias=True)\n",
    "output_bilinear = bilinear(x, y)\n",
    "print('Output size : ', output_bilinear.size())"
   ]
  },
  {
   "cell_type": "markdown",
   "id": "prompt-dylan",
   "metadata": {},
   "source": [
    "## Sigmoid function"
   ]
  },
  {
   "cell_type": "code",
   "execution_count": 6,
   "id": "adolescent-rouge",
   "metadata": {},
   "outputs": [
    {
     "name": "stdout",
     "output_type": "stream",
     "text": [
      "Output size :  torch.Size([100, 10])\n",
      "Output size :  torch.Size([100, 30])\n"
     ]
    }
   ],
   "source": [
    "x = Variable(torch.randn(100, 10))\n",
    "y = Variable(torch.randn(100, 30))\n",
    "\n",
    "sig = nn.Sigmoid()\n",
    "output_sig = sig(x)\n",
    "output_sigy = sig(y)\n",
    "print('Output size : ', output_sig.size())\n",
    "print('Output size : ', output_sigy.size())"
   ]
  },
  {
   "cell_type": "code",
   "execution_count": 7,
   "id": "treated-independence",
   "metadata": {},
   "outputs": [
    {
     "name": "stdout",
     "output_type": "stream",
     "text": [
      "tensor([-0.1201,  2.5272, -0.5764,  0.2451, -0.8904, -0.3579,  0.9702,  1.6562,\n",
      "        -1.2554,  0.5177])\n",
      "tensor([0.4700, 0.9260, 0.3598, 0.5610, 0.2910, 0.4115, 0.7251, 0.8397, 0.2218,\n",
      "        0.6266])\n"
     ]
    }
   ],
   "source": [
    "print(x[0])\n",
    "print(output_sig[0])"
   ]
  },
  {
   "cell_type": "markdown",
   "id": "correct-blanket",
   "metadata": {},
   "source": [
    "## Hyperbolic Tangent Function"
   ]
  },
  {
   "cell_type": "code",
   "execution_count": 8,
   "id": "brown-whole",
   "metadata": {},
   "outputs": [
    {
     "name": "stdout",
     "output_type": "stream",
     "text": [
      "Output size :  torch.Size([100, 10])\n",
      "Output size :  torch.Size([100, 30])\n"
     ]
    }
   ],
   "source": [
    "x = Variable(torch.randn(100, 10))\n",
    "y = Variable(torch.randn(100, 30))\n",
    "\n",
    "func = nn.Tanh()\n",
    "output_x = func(x)\n",
    "output_y = func(y)\n",
    "print('Output size : ', output_x.size())\n",
    "print('Output size : ', output_y.size())"
   ]
  },
  {
   "cell_type": "code",
   "execution_count": 9,
   "id": "popular-junior",
   "metadata": {},
   "outputs": [
    {
     "name": "stdout",
     "output_type": "stream",
     "text": [
      "tensor([ 0.1280,  0.3445, -1.0772, -0.4154,  0.8226,  2.4052,  1.4949, -1.2194,\n",
      "         1.7361,  0.6731])\n",
      "tensor([ 0.1273,  0.3315, -0.7922, -0.3930,  0.6765,  0.9838,  0.9042, -0.8395,\n",
      "         0.9398,  0.5870])\n",
      "tensor([ 0.1426,  2.2411, -1.8777, -0.5577,  0.2550, -0.2938, -0.4164, -0.0691,\n",
      "         0.1460, -0.0851, -0.3229, -0.7209, -0.5326,  1.6447, -0.8691,  0.3269,\n",
      "         0.4239,  2.1197, -0.5256, -0.7531,  0.7974, -0.1840, -0.4368, -0.6418,\n",
      "         0.3434, -1.1182, -0.1373, -0.1465, -0.9097,  0.4815])\n",
      "tensor([ 0.1416,  0.9776, -0.9543, -0.5062,  0.2497, -0.2857, -0.3939, -0.0690,\n",
      "         0.1450, -0.0848, -0.3122, -0.6174, -0.4874,  0.9281, -0.7009,  0.3158,\n",
      "         0.4002,  0.9716, -0.4820, -0.6370,  0.6626, -0.1819, -0.4110, -0.5661,\n",
      "         0.3305, -0.8070, -0.1364, -0.1455, -0.7210,  0.4474])\n"
     ]
    }
   ],
   "source": [
    "print(x[0])\n",
    "print(output_x[0])\n",
    "print(y[0])\n",
    "print(output_y[0])"
   ]
  },
  {
   "cell_type": "markdown",
   "id": "earned-tension",
   "metadata": {},
   "source": [
    "## Log Sigmoid Transfer Function"
   ]
  },
  {
   "cell_type": "code",
   "execution_count": 10,
   "id": "suspected-typing",
   "metadata": {},
   "outputs": [
    {
     "name": "stdout",
     "output_type": "stream",
     "text": [
      "Output size :  torch.Size([100, 10])\n",
      "Output size :  torch.Size([100, 30])\n"
     ]
    }
   ],
   "source": [
    "x = Variable(torch.randn(100, 10))\n",
    "y = Variable(torch.randn(100, 30))\n",
    "\n",
    "func = nn.LogSigmoid()\n",
    "output_x = func(x)\n",
    "output_y = func(y)\n",
    "print('Output size : ', output_x.size())\n",
    "print('Output size : ', output_y.size())"
   ]
  },
  {
   "cell_type": "code",
   "execution_count": 11,
   "id": "adverse-workplace",
   "metadata": {},
   "outputs": [
    {
     "name": "stdout",
     "output_type": "stream",
     "text": [
      "tensor([ 0.4859,  0.3454, -0.2906,  0.4514, -0.8638,  1.1663, -0.7087, -0.3391,\n",
      "        -0.3532,  0.3960])\n",
      "tensor([-0.4794, -0.5353, -0.8490, -0.4927, -1.2156, -0.2712, -1.1090, -0.8770,\n",
      "        -0.8853, -0.5146])\n",
      "tensor([ 1.3087, -0.0228,  1.8210,  0.7376,  0.9273, -0.6156,  0.5556, -0.0502,\n",
      "        -2.0191, -0.6642,  2.0402, -1.1721,  0.5941, -0.5045,  1.3529,  0.2784,\n",
      "         0.4680, -0.8863, -1.2379,  0.7799, -0.5310,  0.2897,  0.3286,  1.0885,\n",
      "         1.0060,  1.7498,  1.4590,  0.4709, -1.7784, -0.2002])\n",
      "tensor([-0.2391, -0.7046, -0.1500, -0.3909, -0.3333, -1.0476, -0.4535, -0.7186,\n",
      "        -2.1438, -1.0794, -0.1222, -1.4419, -0.4396, -0.9769, -0.2299, -0.5636,\n",
      "        -0.4863, -1.2314, -1.4926, -0.3774, -0.9935, -0.5587, -0.5423, -0.2902,\n",
      "        -0.3117, -0.1603, -0.2090, -0.4851, -1.9344, -0.7983])\n"
     ]
    }
   ],
   "source": [
    "print(x[0])\n",
    "print(output_x[0])\n",
    "print(y[0])\n",
    "print(output_y[0])"
   ]
  },
  {
   "cell_type": "markdown",
   "id": "accessible-spokesman",
   "metadata": {},
   "source": [
    "## ReLU Function"
   ]
  },
  {
   "cell_type": "code",
   "execution_count": 12,
   "id": "welcome-lotus",
   "metadata": {},
   "outputs": [
    {
     "name": "stdout",
     "output_type": "stream",
     "text": [
      "Output size :  torch.Size([100, 10])\n",
      "Output size :  torch.Size([100, 30])\n"
     ]
    }
   ],
   "source": [
    "x = Variable(torch.randn(100, 10))\n",
    "y = Variable(torch.randn(100, 30))\n",
    "\n",
    "func = nn.ReLU()\n",
    "output_x = func(x)\n",
    "output_y = func(y)\n",
    "print('Output size : ', output_x.size())\n",
    "print('Output size : ', output_y.size())"
   ]
  },
  {
   "cell_type": "code",
   "execution_count": 13,
   "id": "unable-reserve",
   "metadata": {},
   "outputs": [
    {
     "name": "stdout",
     "output_type": "stream",
     "text": [
      "tensor([-0.1408, -1.0161, -0.4314, -0.3058, -1.1294,  0.9389,  0.0888, -0.2817,\n",
      "         0.4652,  0.5690])\n",
      "tensor([0.0000, 0.0000, 0.0000, 0.0000, 0.0000, 0.9389, 0.0888, 0.0000, 0.4652,\n",
      "        0.5690])\n",
      "tensor([ 1.4424,  0.2211, -0.6402, -0.1335,  1.6656, -0.1803,  1.7206, -0.4770,\n",
      "        -0.6488,  0.4778,  0.7510,  0.9211, -0.3344, -1.0876, -0.7033, -0.0018,\n",
      "        -0.3596,  0.1800,  0.3188, -0.9540,  0.7445, -0.1088, -0.3421, -1.0699,\n",
      "        -1.0675, -0.4066,  0.6506, -0.5331,  0.6487,  0.2186])\n",
      "tensor([1.4424, 0.2211, 0.0000, 0.0000, 1.6656, 0.0000, 1.7206, 0.0000, 0.0000,\n",
      "        0.4778, 0.7510, 0.9211, 0.0000, 0.0000, 0.0000, 0.0000, 0.0000, 0.1800,\n",
      "        0.3188, 0.0000, 0.7445, 0.0000, 0.0000, 0.0000, 0.0000, 0.0000, 0.6506,\n",
      "        0.0000, 0.6487, 0.2186])\n"
     ]
    }
   ],
   "source": [
    "print(x[0])\n",
    "print(output_x[0])\n",
    "print(y[0])\n",
    "print(output_y[0])"
   ]
  },
  {
   "cell_type": "markdown",
   "id": "orange-slovak",
   "metadata": {},
   "source": [
    "## Leaky ReLU"
   ]
  },
  {
   "cell_type": "code",
   "execution_count": 14,
   "id": "everyday-bidder",
   "metadata": {},
   "outputs": [
    {
     "name": "stdout",
     "output_type": "stream",
     "text": [
      "Output size :  torch.Size([100, 10])\n",
      "Output size :  torch.Size([100, 30])\n"
     ]
    }
   ],
   "source": [
    "x = Variable(torch.randn(100, 10))\n",
    "y = Variable(torch.randn(100, 30))\n",
    "\n",
    "func = nn.LeakyReLU()\n",
    "output_x = func(x)\n",
    "output_y = func(y)\n",
    "print('Output size : ', output_x.size())\n",
    "print('Output size : ', output_y.size())"
   ]
  },
  {
   "cell_type": "code",
   "execution_count": 15,
   "id": "trying-graphics",
   "metadata": {},
   "outputs": [
    {
     "name": "stdout",
     "output_type": "stream",
     "text": [
      "tensor([ 0.3459, -1.8151, -1.4527,  2.3153, -0.3389, -0.3093,  0.4237, -0.0381,\n",
      "        -0.9218, -0.3746])\n",
      "tensor([ 3.4587e-01, -1.8151e-02, -1.4527e-02,  2.3153e+00, -3.3888e-03,\n",
      "        -3.0933e-03,  4.2375e-01, -3.8080e-04, -9.2179e-03, -3.7462e-03])\n",
      "tensor([ 1.1302,  0.0477, -0.8344, -0.4848,  1.1539, -0.2033, -1.1222,  2.1090,\n",
      "         0.7651,  0.1434, -0.9926,  1.3684,  1.9533, -1.1795, -1.0306, -1.5185,\n",
      "        -0.5747, -1.1927,  1.5853,  0.7195,  0.7282,  0.6627, -0.5078,  0.1464,\n",
      "         1.2398, -0.2647,  0.8999, -1.1107, -0.9099, -0.5698])\n",
      "tensor([ 1.1302e+00,  4.7711e-02, -8.3436e-03, -4.8484e-03,  1.1539e+00,\n",
      "        -2.0328e-03, -1.1222e-02,  2.1090e+00,  7.6509e-01,  1.4340e-01,\n",
      "        -9.9260e-03,  1.3684e+00,  1.9533e+00, -1.1795e-02, -1.0306e-02,\n",
      "        -1.5185e-02, -5.7469e-03, -1.1927e-02,  1.5853e+00,  7.1955e-01,\n",
      "         7.2823e-01,  6.6274e-01, -5.0781e-03,  1.4640e-01,  1.2398e+00,\n",
      "        -2.6470e-03,  8.9990e-01, -1.1107e-02, -9.0994e-03, -5.6978e-03])\n"
     ]
    }
   ],
   "source": [
    "print(x[0])\n",
    "print(output_x[0])\n",
    "print(y[0])\n",
    "print(output_y[0])"
   ]
  },
  {
   "cell_type": "code",
   "execution_count": null,
   "id": "electronic-porcelain",
   "metadata": {},
   "outputs": [],
   "source": []
  },
  {
   "cell_type": "code",
   "execution_count": null,
   "id": "classical-refrigerator",
   "metadata": {},
   "outputs": [],
   "source": []
  },
  {
   "cell_type": "markdown",
   "id": "fabulous-rachel",
   "metadata": {},
   "source": [
    "# Recipe 4-2. Visualizing the Shape of Activation Functions"
   ]
  },
  {
   "cell_type": "code",
   "execution_count": 16,
   "id": "confused-strain",
   "metadata": {},
   "outputs": [],
   "source": [
    "import torch.nn.functional as F\n",
    "from torch.autograd import Variable\n",
    "import matplotlib.pyplot as plt\n",
    "%matplotlib inline"
   ]
  },
  {
   "cell_type": "code",
   "execution_count": 17,
   "id": "black-cable",
   "metadata": {},
   "outputs": [],
   "source": [
    "x = torch.linspace(-10, 10, 1500)  \n",
    "x = Variable(x)\n",
    "x_1 = x.data.numpy()   # tranforming into numpy"
   ]
  },
  {
   "cell_type": "code",
   "execution_count": 18,
   "id": "settled-homework",
   "metadata": {},
   "outputs": [],
   "source": [
    "y_relu = F.relu(x).data.numpy()\n",
    "y_sigmoid = torch.sigmoid(x).data.numpy()\n",
    "y_tanh = torch.tanh(x).data.numpy()\n",
    "y_softplus = F.softplus(x).data.numpy()"
   ]
  },
  {
   "cell_type": "code",
   "execution_count": 19,
   "id": "angry-smooth",
   "metadata": {},
   "outputs": [
    {
     "data": {
      "text/plain": [
       "<matplotlib.legend.Legend at 0x1e353f3cd48>"
      ]
     },
     "execution_count": 19,
     "metadata": {},
     "output_type": "execute_result"
    },
    {
     "data": {
      "image/png": "[encoded data removed]",
      "text/plain": [
       "<Figure size 504x288 with 1 Axes>"
      ]
     },
     "metadata": {
      "needs_background": "light"
     },
     "output_type": "display_data"
    }
   ],
   "source": [
    "plt.figure(figsize=(7, 4))\n",
    "plt.plot(x_1, y_relu, c='blue', label='ReLU')\n",
    "plt.ylim((-1, 11))\n",
    "plt.legend(loc='best')"
   ]
  },
  {
   "cell_type": "code",
   "execution_count": 20,
   "id": "shaped-detroit",
   "metadata": {},
   "outputs": [
    {
     "data": {
      "text/plain": [
       "<matplotlib.legend.Legend at 0x1e35403d908>"
      ]
     },
     "execution_count": 20,
     "metadata": {},
     "output_type": "execute_result"
    },
    {
     "data": {
      "image/png": "[encoded data removed]",
      "text/plain": [
       "<Figure size 504x288 with 1 Axes>"
      ]
     },
     "metadata": {
      "needs_background": "light"
     },
     "output_type": "display_data"
    }
   ],
   "source": [
    "plt.figure(figsize=(7, 4))\n",
    "plt.plot(x_1, y_sigmoid, c='blue', label='sigmoid')\n",
    "plt.ylim((-0.2, 1.2))\n",
    "plt.legend(loc='best')"
   ]
  },
  {
   "cell_type": "code",
   "execution_count": 21,
   "id": "colored-viewer",
   "metadata": {},
   "outputs": [
    {
     "data": {
      "text/plain": [
       "<matplotlib.legend.Legend at 0x1e30e171448>"
      ]
     },
     "execution_count": 21,
     "metadata": {},
     "output_type": "execute_result"
    },
    {
     "data": {
      "image/png": "[encoded data removed]",
      "text/plain": [
       "<Figure size 504x288 with 1 Axes>"
      ]
     },
     "metadata": {
      "needs_background": "light"
     },
     "output_type": "display_data"
    }
   ],
   "source": [
    "plt.figure(figsize=(7, 4))\n",
    "plt.plot(x_1, y_tanh, c='blue', label='tanh')\n",
    "plt.ylim((-1.2, 1.2))\n",
    "plt.legend(loc='best')"
   ]
  },
  {
   "cell_type": "code",
   "execution_count": 22,
   "id": "furnished-flashing",
   "metadata": {},
   "outputs": [
    {
     "data": {
      "text/plain": [
       "<matplotlib.legend.Legend at 0x1e354127388>"
      ]
     },
     "execution_count": 22,
     "metadata": {},
     "output_type": "execute_result"
    },
    {
     "data": {
      "image/png": "[encoded data removed]",
      "text/plain": [
       "<Figure size 504x288 with 1 Axes>"
      ]
     },
     "metadata": {
      "needs_background": "light"
     },
     "output_type": "display_data"
    }
   ],
   "source": [
    "plt.figure(figsize=(7, 4))\n",
    "plt.plot(x_1, y_softplus, c='blue', label='softplus')\n",
    "plt.ylim((-0.2, 11))\n",
    "plt.legend(loc='best')"
   ]
  },
  {
   "cell_type": "code",
   "execution_count": null,
   "id": "retired-synthesis",
   "metadata": {},
   "outputs": [],
   "source": []
  },
  {
   "cell_type": "code",
   "execution_count": null,
   "id": "indian-faculty",
   "metadata": {},
   "outputs": [],
   "source": []
  },
  {
   "cell_type": "markdown",
   "id": "designing-coaching",
   "metadata": {},
   "source": [
    "# Recipe 4-3. Basic Neural Network Model Problem"
   ]
  },
  {
   "cell_type": "code",
   "execution_count": 23,
   "id": "renewable-conversion",
   "metadata": {},
   "outputs": [],
   "source": [
    "def prep_data():\n",
    "    train_X = np.asarray([13.3,14.4,15.5,16.71,16.93,14.168,19.779,16.182,\n",
    "                          17.59,12.167,17.042,10.791,15.313,17.997,15.654,\n",
    "                          19.27,13.1])\n",
    "    train_Y = np.asarray([11.7,12.76,12.09,13.19,11.694,11.573,13.366,12.596,\n",
    "                          12.53,11.221,12.827,13.465,11.65,12.904,12.42,12.94,\n",
    "                          11.3])\n",
    "    dtype = torch.FloatTensor\n",
    "    X = Variable(torch.from_numpy(train_X).type(dtype),\n",
    "                 requires_grad=False).view(17,1)\n",
    "    y = Variable(torch.from_numpy(train_Y).type(dtype),requires_grad=False)\n",
    "    return X,y"
   ]
  },
  {
   "cell_type": "code",
   "execution_count": 24,
   "id": "elegant-beach",
   "metadata": {},
   "outputs": [],
   "source": [
    "# get dynamic parameters"
   ]
  },
  {
   "cell_type": "raw",
   "id": "efficient-netscape",
   "metadata": {},
   "source": [
    "A basic neural network model in PyTorch requires six steps: \n",
    "    preparing training data\n",
    "    initializing weights\n",
    "    creating a basic network model\n",
    "    calculating the loss function\n",
    "    selecting the learning rate\n",
    "    optimizing the loss function with respect to the model’s parameters"
   ]
  },
  {
   "cell_type": "code",
   "execution_count": 25,
   "id": "emerging-zambia",
   "metadata": {},
   "outputs": [],
   "source": [
    "def prep_data():\n",
    "    train_X = np.asarray([13.3,14.4,15.5,16.71,16.93,14.168,19.779,16.182,\n",
    "                          17.59,12.167,17.042,10.791,15.313,17.997,15.654,\n",
    "                          19.27,13.1])\n",
    "    train_Y = np.asarray([11.7,12.76,12.09,13.19,11.694,11.573,13.366,12.596,\n",
    "                          12.53,11.221,12.827,13.465,11.65,12.904,12.42,12.94,\n",
    "                          11.3])\n",
    "    dtype = torch.FloatTensor\n",
    "    X = Variable(torch.from_numpy(train_X).type(dtype),\n",
    "                 requires_grad=False).view(17,1)\n",
    "    y = Variable(torch.from_numpy(train_Y).type(dtype),requires_grad=False)\n",
    "    return X,y"
   ]
  },
  {
   "cell_type": "code",
   "execution_count": 26,
   "id": "controlling-syndrome",
   "metadata": {},
   "outputs": [],
   "source": [
    "\n",
    "# get dynamic parameters"
   ]
  },
  {
   "cell_type": "code",
   "execution_count": 27,
   "id": "invalid-array",
   "metadata": {},
   "outputs": [],
   "source": [
    "def set_weights():\n",
    "    w = Variable(torch.randn(1),requires_grad = True)\n",
    "    b = Variable(torch.randn(1),requires_grad=True)\n",
    "    return w,b"
   ]
  },
  {
   "cell_type": "code",
   "execution_count": 28,
   "id": "authorized-exchange",
   "metadata": {},
   "outputs": [],
   "source": [
    "\n",
    "#deploy neural network model"
   ]
  },
  {
   "cell_type": "code",
   "execution_count": 29,
   "id": "verified-following",
   "metadata": {},
   "outputs": [],
   "source": [
    "\n",
    "def build_network(x):\n",
    "    y_pred = torch.matmul(x,w)+b\n",
    "    return y_pred"
   ]
  },
  {
   "cell_type": "code",
   "execution_count": 30,
   "id": "advanced-gambling",
   "metadata": {},
   "outputs": [
    {
     "data": {
      "text/plain": [
       "Linear(in_features=17, out_features=1, bias=True)"
      ]
     },
     "execution_count": 30,
     "metadata": {},
     "output_type": "execute_result"
    }
   ],
   "source": [
    "#implement in PyTorch\n",
    "import torch.nn as nn\n",
    "f = nn.Linear(17,1) # Much simpler.\n",
    "f"
   ]
  },
  {
   "cell_type": "code",
   "execution_count": 31,
   "id": "raising-sunset",
   "metadata": {},
   "outputs": [],
   "source": [
    "#calculate the loss function"
   ]
  },
  {
   "cell_type": "code",
   "execution_count": 37,
   "id": "conceptual-equation",
   "metadata": {},
   "outputs": [],
   "source": [
    "def loss_calc(y,y_pred):\n",
    "    loss = (y_pred-y).pow(2).sum()\n",
    "    for param in [w,b]:\n",
    "        if not param.grad is None: param.grad.data.zero_()\n",
    "    loss.backward()\n",
    "    return loss.data"
   ]
  },
  {
   "cell_type": "code",
   "execution_count": 38,
   "id": "expired-parade",
   "metadata": {},
   "outputs": [],
   "source": [
    "# optimizing results"
   ]
  },
  {
   "cell_type": "code",
   "execution_count": 39,
   "id": "worst-toner",
   "metadata": {},
   "outputs": [],
   "source": [
    "def optimize(learning_rate):\n",
    "    w.data -= learning_rate * w.grad.data\n",
    "    b.data -= learning_rate * b.grad.data"
   ]
  },
  {
   "cell_type": "code",
   "execution_count": 40,
   "id": "miniature-crown",
   "metadata": {},
   "outputs": [],
   "source": [
    "learning_rate = 1e-4"
   ]
  },
  {
   "cell_type": "code",
   "execution_count": 41,
   "id": "sacred-bicycle",
   "metadata": {},
   "outputs": [
    {
     "name": "stdout",
     "output_type": "stream",
     "text": [
      "tensor(2157.9104)\n",
      "tensor(38.0210)\n",
      "tensor(33.6074)\n",
      "tensor(29.8197)\n",
      "tensor(26.5692)\n"
     ]
    }
   ],
   "source": [
    "x,y = prep_data()  # x - training data,y - target variables\n",
    "w,b = set_weights() # w,b - parameters\n",
    "for i in range(5000):\n",
    "    y_pred = build_network(x) # function which computes wx + b\n",
    "    loss = loss_calc(y,y_pred) # error calculation\n",
    "    if i % 1000 == 0: \n",
    "        print(loss)\n",
    "    optimize(learning_rate)    # minimize the loss w.r.t. w, b"
   ]
  },
  {
   "cell_type": "code",
   "execution_count": 42,
   "id": "beneficial-regression",
   "metadata": {},
   "outputs": [],
   "source": [
    "import matplotlib.pyplot as plt\n",
    "%matplotlib inline"
   ]
  },
  {
   "cell_type": "code",
   "execution_count": 43,
   "id": "virtual-fountain",
   "metadata": {},
   "outputs": [
    {
     "data": {
      "text/plain": [
       "[<matplotlib.lines.Line2D at 0x1e354196588>]"
      ]
     },
     "execution_count": 43,
     "metadata": {},
     "output_type": "execute_result"
    },
    {
     "data": {
      "image/png": "[encoded data removed]",
      "text/plain": [
       "<Figure size 432x288 with 1 Axes>"
      ]
     },
     "metadata": {
      "needs_background": "light"
     },
     "output_type": "display_data"
    }
   ],
   "source": [
    "x_numpy = x.data.numpy()\n",
    "y_numpy = y.data.numpy()\n",
    "y_pred = y_pred.data.numpy()\n",
    "plt.plot(x_numpy,y_numpy,'o')\n",
    "plt.plot(x_numpy,y_pred,'-')"
   ]
  },
  {
   "cell_type": "code",
   "execution_count": null,
   "id": "present-technician",
   "metadata": {},
   "outputs": [],
   "source": []
  },
  {
   "cell_type": "code",
   "execution_count": null,
   "id": "demanding-template",
   "metadata": {},
   "outputs": [],
   "source": []
  },
  {
   "cell_type": "markdown",
   "id": "rational-present",
   "metadata": {},
   "source": [
    "# Recipe 4-4. Tensor Differentiation Problem"
   ]
  },
  {
   "cell_type": "raw",
   "id": "spare-tampa",
   "metadata": {},
   "source": [
    "The computational graph network is represented by nodes and connected through functions.\n",
    "There are two different kinds of nodes: dependent and independent.\n",
    "\n",
    "Dependent nodes are waiting for results from other nodes to process the input.\n",
    "Independent nodes are connected and are either constants or the results."
   ]
  },
  {
   "cell_type": "code",
   "execution_count": 44,
   "id": "mineral-force",
   "metadata": {},
   "outputs": [],
   "source": [
    "x = Variable(torch.ones(4, 4) * 12.5, requires_grad=True)"
   ]
  },
  {
   "cell_type": "code",
   "execution_count": 46,
   "id": "dedicated-tension",
   "metadata": {},
   "outputs": [
    {
     "data": {
      "text/plain": [
       "tensor([[12.5000, 12.5000, 12.5000, 12.5000],\n",
       "        [12.5000, 12.5000, 12.5000, 12.5000],\n",
       "        [12.5000, 12.5000, 12.5000, 12.5000],\n",
       "        [12.5000, 12.5000, 12.5000, 12.5000]], requires_grad=True)"
      ]
     },
     "execution_count": 46,
     "metadata": {},
     "output_type": "execute_result"
    }
   ],
   "source": [
    "x"
   ]
  },
  {
   "cell_type": "code",
   "execution_count": 47,
   "id": "surrounded-shadow",
   "metadata": {},
   "outputs": [],
   "source": [
    "fn = 2 * (x * x) + 5 * x + 6\n",
    "\n",
    "# 2x^2 + 5x + 6"
   ]
  },
  {
   "cell_type": "code",
   "execution_count": 48,
   "id": "native-helmet",
   "metadata": {},
   "outputs": [],
   "source": [
    "fn.backward(torch.ones(4,4))"
   ]
  },
  {
   "cell_type": "code",
   "execution_count": 49,
   "id": "difficult-dairy",
   "metadata": {
    "scrolled": true
   },
   "outputs": [
    {
     "name": "stdout",
     "output_type": "stream",
     "text": [
      "tensor([[55., 55., 55., 55.],\n",
      "        [55., 55., 55., 55.],\n",
      "        [55., 55., 55., 55.],\n",
      "        [55., 55., 55., 55.]])\n"
     ]
    }
   ],
   "source": [
    "print(x.grad)"
   ]
  }
 ],
 "metadata": {
  "kernelspec": {
   "display_name": "Python 3",
   "language": "python",
   "name": "python3"
  },
  "language_info": {
   "codemirror_mode": {
    "name": "ipython",
    "version": 3
   },
   "file_extension": ".py",
   "mimetype": "text/x-python",
   "name": "python",
   "nbconvert_exporter": "python",
   "pygments_lexer": "ipython3",
   "version": "3.7.9"
  }
 },
 "nbformat": 4,
 "nbformat_minor": 5
}
