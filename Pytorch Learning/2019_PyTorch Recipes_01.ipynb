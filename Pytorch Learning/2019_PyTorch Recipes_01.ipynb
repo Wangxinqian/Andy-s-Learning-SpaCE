{
 "cells": [
  {
   "cell_type": "code",
   "execution_count": 2,
   "id": "applicable-orange",
   "metadata": {},
   "outputs": [],
   "source": [
    "import torch"
   ]
  },
  {
   "cell_type": "markdown",
   "id": "veterinary-fundamental",
   "metadata": {},
   "source": [
    "### Matrix Construction"
   ]
  },
  {
   "cell_type": "code",
   "execution_count": 10,
   "id": "regulation-child",
   "metadata": {},
   "outputs": [
    {
     "data": {
      "text/plain": [
       "tensor([[1., 0., 0., 0.],\n",
       "        [0., 1., 0., 0.],\n",
       "        [0., 0., 1., 0.]])"
      ]
     },
     "execution_count": 10,
     "metadata": {},
     "output_type": "execute_result"
    }
   ],
   "source": [
    "torch.randn(2,3,4)\n",
    "torch.zeros(4,4)\n",
    "#Diagonal Matrix\n",
    "torch.eye(3,4)"
   ]
  },
  {
   "cell_type": "markdown",
   "id": "prerequisite-romania",
   "metadata": {},
   "source": [
    "### Convert numpy into torch"
   ]
  },
  {
   "cell_type": "code",
   "execution_count": 13,
   "id": "quiet-balance",
   "metadata": {},
   "outputs": [
    {
     "data": {
      "text/plain": [
       "tensor([1, 2, 3, 4], dtype=torch.int32)"
      ]
     },
     "execution_count": 13,
     "metadata": {},
     "output_type": "execute_result"
    }
   ],
   "source": [
    "import numpy as np\n",
    "x = np.array([1,2,3,4])\n",
    "torch.from_numpy(x)"
   ]
  },
  {
   "cell_type": "markdown",
   "id": "greenhouse-parcel",
   "metadata": {},
   "source": [
    "### The dimension needs to be mentioned \n",
    "### if the input is a matrix in order to search minimum values along rows or columns."
   ]
  },
  {
   "cell_type": "code",
   "execution_count": 14,
   "id": "fatty-referral",
   "metadata": {},
   "outputs": [
    {
     "data": {
      "text/plain": [
       "tensor([3, 1, 0, 1])"
      ]
     },
     "execution_count": 14,
     "metadata": {},
     "output_type": "execute_result"
    }
   ],
   "source": [
    "d = torch.randn(4,5)\n",
    "torch.argmin(d,dim=1)\n",
    "torch.argmax(d,dim=1)"
   ]
  },
  {
   "cell_type": "markdown",
   "id": "ongoing-metadata",
   "metadata": {},
   "source": [
    "### Calculation"
   ]
  },
  {
   "cell_type": "code",
   "execution_count": 16,
   "id": "varied-wages",
   "metadata": {},
   "outputs": [
    {
     "data": {
      "text/plain": [
       "tensor([[-0.8812,  1.0178,  0.3404, -1.0066, -0.8239],\n",
       "        [-0.1608, -1.2331,  0.4347,  1.6147, -0.2919],\n",
       "        [-1.3907,  0.7406, -0.8014,  0.5924, -0.0649],\n",
       "        [-0.9049, -1.0436,  0.9001, -1.6543,  2.7241]])"
      ]
     },
     "execution_count": 16,
     "metadata": {},
     "output_type": "execute_result"
    }
   ],
   "source": [
    "d = torch.randn(4,5)\n",
    "d"
   ]
  },
  {
   "cell_type": "code",
   "execution_count": 17,
   "id": "known-champion",
   "metadata": {},
   "outputs": [
    {
     "data": {
      "text/plain": [
       "tensor([[-0.8812, -0.1608, -1.3907, -0.9049],\n",
       "        [ 1.0178, -1.2331,  0.7406, -1.0436],\n",
       "        [ 0.3404,  0.4347, -0.8014,  0.9001],\n",
       "        [-1.0066,  1.6147,  0.5924, -1.6543],\n",
       "        [-0.8239, -0.2919, -0.0649,  2.7241]])"
      ]
     },
     "execution_count": 17,
     "metadata": {},
     "output_type": "execute_result"
    }
   ],
   "source": [
    "d.t()"
   ]
  },
  {
   "cell_type": "code",
   "execution_count": 22,
   "id": "scenic-theology",
   "metadata": {},
   "outputs": [
    {
     "data": {
      "text/plain": [
       "(tensor([-0.8812, -0.1608, -1.3907, -0.9049]),\n",
       " tensor([ 1.0178, -1.2331,  0.7406, -1.0436]),\n",
       " tensor([ 0.3404,  0.4347, -0.8014,  0.9001]),\n",
       " tensor([-1.0066,  1.6147,  0.5924, -1.6543]),\n",
       " tensor([-0.8239, -0.2919, -0.0649,  2.7241]))"
      ]
     },
     "execution_count": 22,
     "metadata": {},
     "output_type": "execute_result"
    }
   ],
   "source": [
    "d = torch.randn(4,5)\n",
    "torch.unbind(d,1)"
   ]
  },
  {
   "cell_type": "code",
   "execution_count": 23,
   "id": "catholic-neighborhood",
   "metadata": {},
   "outputs": [
    {
     "data": {
      "text/plain": [
       "tensor([[19.7613, 19.0857, 20.7088, 19.2958, 19.7676],\n",
       "        [19.6747, 20.3043, 20.3808, 19.4542, 20.6057],\n",
       "        [20.4575, 21.1654, 20.1513, 20.4278, 19.3676],\n",
       "        [20.2377, 19.0366, 19.8177, 19.8822, 21.0658]])"
      ]
     },
     "execution_count": 23,
     "metadata": {},
     "output_type": "execute_result"
    }
   ],
   "source": [
    "d = torch.randn(4,5)\n",
    "torch.add(d,20)"
   ]
  },
  {
   "cell_type": "code",
   "execution_count": 24,
   "id": "alpha-optimum",
   "metadata": {},
   "outputs": [
    {
     "data": {
      "text/plain": [
       "tensor([[-0.2387, -0.9143,  0.7088, -0.7042, -0.2324],\n",
       "        [-0.3253,  0.3043,  0.3808, -0.5458,  0.6057],\n",
       "        [ 0.4575,  1.1654,  0.1513,  0.4278, -0.6324],\n",
       "        [ 0.2377, -0.9634, -0.1823, -0.1178,  1.0658]])"
      ]
     },
     "execution_count": 24,
     "metadata": {},
     "output_type": "execute_result"
    }
   ],
   "source": [
    "d"
   ]
  },
  {
   "cell_type": "code",
   "execution_count": 25,
   "id": "nonprofit-arnold",
   "metadata": {},
   "outputs": [
    {
     "data": {
      "text/plain": [
       "tensor([[-23.8698, -91.4338,  70.8839, -70.4235, -23.2421],\n",
       "        [-32.5272,  30.4308,  38.0764, -54.5806,  60.5748],\n",
       "        [ 45.7451, 116.5384,  15.1278,  42.7822, -63.2401],\n",
       "        [ 23.7681, -96.3354, -18.2336, -11.7831, 106.5776]])"
      ]
     },
     "execution_count": 25,
     "metadata": {},
     "output_type": "execute_result"
    }
   ],
   "source": [
    "torch.mul(d,100)"
   ]
  },
  {
   "cell_type": "markdown",
   "id": "thermal-occupation",
   "metadata": {},
   "source": [
    "#### Round Up Function"
   ]
  },
  {
   "cell_type": "code",
   "execution_count": 27,
   "id": "dependent-angel",
   "metadata": {},
   "outputs": [
    {
     "data": {
      "text/plain": [
       "tensor([[-0.1117, -0.4966,  0.1631, -0.8817,  0.0539],\n",
       "        [ 0.6684, -0.0597, -0.4675, -0.2153, -0.7141],\n",
       "        [-1.0831, -0.5547,  0.9717, -0.5150,  1.4255],\n",
       "        [ 0.7987, -1.4949,  1.4778, -0.1696, -0.9919],\n",
       "        [-1.4569,  0.2563, -0.4030,  0.4195,  0.9380]])"
      ]
     },
     "execution_count": 27,
     "metadata": {},
     "output_type": "execute_result"
    }
   ],
   "source": [
    "torch.manual_seed(1234)\n",
    "torch.randn(5,5)"
   ]
  },
  {
   "cell_type": "code",
   "execution_count": 29,
   "id": "durable-polymer",
   "metadata": {},
   "outputs": [
    {
     "data": {
      "text/plain": [
       "tensor([[-0., -0.,  1., -0.,  1.],\n",
       "        [ 1., -0., -0., -0., -0.],\n",
       "        [-1., -0.,  1., -0.,  2.],\n",
       "        [ 1., -1.,  2., -0., -0.],\n",
       "        [-1.,  1., -0.,  1.,  1.]])"
      ]
     },
     "execution_count": 29,
     "metadata": {},
     "output_type": "execute_result"
    }
   ],
   "source": [
    "torch.manual_seed(1234)\n",
    "torch.ceil(torch.randn(5,5))"
   ]
  },
  {
   "cell_type": "code",
   "execution_count": 30,
   "id": "informative-genealogy",
   "metadata": {},
   "outputs": [
    {
     "data": {
      "text/plain": [
       "tensor([[-1., -1.,  0., -1.,  0.],\n",
       "        [ 0., -1., -1., -1., -1.],\n",
       "        [-2., -1.,  0., -1.,  1.],\n",
       "        [ 0., -2.,  1., -1., -1.],\n",
       "        [-2.,  0., -1.,  0.,  0.]])"
      ]
     },
     "execution_count": 30,
     "metadata": {},
     "output_type": "execute_result"
    }
   ],
   "source": [
    "torch.manual_seed(1234)\n",
    "torch.floor(torch.randn(5,5))"
   ]
  },
  {
   "cell_type": "code",
   "execution_count": null,
   "id": "special-bradford",
   "metadata": {},
   "outputs": [],
   "source": [
    "torch.sqrt()"
   ]
  },
  {
   "cell_type": "markdown",
   "id": "private-handle",
   "metadata": {},
   "source": [
    "### Indice"
   ]
  },
  {
   "cell_type": "code",
   "execution_count": 6,
   "id": "nervous-silver",
   "metadata": {},
   "outputs": [
    {
     "data": {
      "text/plain": [
       "torch.float32"
      ]
     },
     "execution_count": 6,
     "metadata": {},
     "output_type": "execute_result"
    }
   ],
   "source": [
    "#默认的torch.Tensor是FloatTensor\n",
    "x = torch.randn((3,4))\n",
    "x.dtype"
   ]
  },
  {
   "cell_type": "code",
   "execution_count": null,
   "id": "hungarian-command",
   "metadata": {},
   "outputs": [],
   "source": []
  }
 ],
 "metadata": {
  "kernelspec": {
   "display_name": "Python 3",
   "language": "python",
   "name": "python3"
  },
  "language_info": {
   "codemirror_mode": {
    "name": "ipython",
    "version": 3
   },
   "file_extension": ".py",
   "mimetype": "text/x-python",
   "name": "python",
   "nbconvert_exporter": "python",
   "pygments_lexer": "ipython3",
   "version": "3.7.9"
  }
 },
 "nbformat": 4,
 "nbformat_minor": 5
}
